{
 "cells": [
  {
   "cell_type": "markdown",
   "metadata": {},
   "source": [
    "## Artificial Neural Networks with Keras"
   ]
  },
  {
   "cell_type": "markdown",
   "metadata": {},
   "source": [
    "\n",
    "First, let's import a few common modules, ensure MatplotLib plots figures inline and prepare a function to save the figures. We also check that Python 3.5 or later is installed (although Python 2.x may work, it is deprecated so we strongly recommend you use Python 3 instead), as well as Scikit-Learn ≥0.20 and TensorFlow ≥2.0."
   ]
  },
  {
   "cell_type": "code",
   "execution_count": 1,
   "metadata": {},
   "outputs": [],
   "source": [
    "# TensorFlow ≥2.0 is required\n",
    "import tensorflow as tf\n",
    "\n",
    "# Common imports\n",
    "import numpy as np\n",
    "import os\n",
    "\n",
    "# to make this notebook's output stable across runs\n",
    "np.random.seed(42)\n",
    "\n",
    "# To plot pretty figures\n",
    "%matplotlib inline\n",
    "import matplotlib as mpl\n",
    "import matplotlib.pyplot as plt\n",
    "mpl.rc('axes', labelsize=14)\n",
    "mpl.rc('xtick', labelsize=12)\n",
    "mpl.rc('ytick', labelsize=12)\n",
    "\n",
    "# Ignore useless warnings (see SciPy issue #5998)\n",
    "import warnings\n",
    "warnings.filterwarnings(action=\"ignore\", message=\"^internal gelsd\")"
   ]
  },
  {
   "cell_type": "markdown",
   "metadata": {},
   "source": [
    "## Building an Image Classifier"
   ]
  },
  {
   "cell_type": "markdown",
   "metadata": {},
   "source": [
    "First let's import TensorFlow and Keras"
   ]
  },
  {
   "cell_type": "code",
   "execution_count": 2,
   "metadata": {},
   "outputs": [],
   "source": [
    "from tensorflow import keras"
   ]
  },
  {
   "cell_type": "code",
   "execution_count": 3,
   "metadata": {},
   "outputs": [
    {
     "data": {
      "text/plain": [
       "'2.3.1'"
      ]
     },
     "execution_count": 3,
     "metadata": {},
     "output_type": "execute_result"
    }
   ],
   "source": [
    "tf.__version__"
   ]
  },
  {
   "cell_type": "markdown",
   "metadata": {},
   "source": [
    "Let's start by loading the fashion MNIST dataset. Keras has a number of functions to load popular datasets in keras.datasets. The dataset is already split for you between a training set and a test set, but it can be useful to split the training set further to have a validation set:"
   ]
  },
  {
   "cell_type": "code",
   "execution_count": 4,
   "metadata": {},
   "outputs": [],
   "source": [
    "digits_mnist = keras.datasets.mnist\n",
    "(X_train_full, y_train_full), (X_test, y_test) = digits_mnist.load_data()"
   ]
  },
  {
   "cell_type": "markdown",
   "metadata": {},
   "source": [
    "The training set contains 60,000 grayscale images, each 28x28 pixels:"
   ]
  },
  {
   "cell_type": "code",
   "execution_count": 5,
   "metadata": {},
   "outputs": [
    {
     "data": {
      "text/plain": [
       "(60000, 28, 28)"
      ]
     },
     "execution_count": 5,
     "metadata": {},
     "output_type": "execute_result"
    }
   ],
   "source": [
    "X_train_full.shape"
   ]
  },
  {
   "cell_type": "markdown",
   "metadata": {},
   "source": [
    "Each pixel intensity is represented as a byte (0 to 255):"
   ]
  },
  {
   "cell_type": "code",
   "execution_count": 6,
   "metadata": {},
   "outputs": [
    {
     "data": {
      "text/plain": [
       "dtype('uint8')"
      ]
     },
     "execution_count": 6,
     "metadata": {},
     "output_type": "execute_result"
    }
   ],
   "source": [
    "X_train_full.dtype"
   ]
  },
  {
   "cell_type": "markdown",
   "metadata": {},
   "source": [
    "\n",
    "Let's split the full training set into a validation set and a (smaller) training set. We also scale the pixel intensities down to the 0-1 range and convert them to floats, by dividing by 255."
   ]
  },
  {
   "cell_type": "code",
   "execution_count": 7,
   "metadata": {},
   "outputs": [],
   "source": [
    "X_valid, X_train = X_train_full[:5000] / 255., X_train_full[5000:] / 255.\n",
    "y_valid, y_train = y_train_full[:5000], y_train_full[5000:]\n",
    "X_test = X_test / 255."
   ]
  },
  {
   "cell_type": "markdown",
   "metadata": {},
   "source": [
    "You can plot an image using Matplotlib's imshow() function, with a 'binary' color map:"
   ]
  },
  {
   "cell_type": "code",
   "execution_count": 8,
   "metadata": {},
   "outputs": [
    {
     "data": {
      "image/png": "[encoded data removed]",
      "text/plain": [
       "<Figure size 432x288 with 1 Axes>"
      ]
     },
     "metadata": {
      "needs_background": "light"
     },
     "output_type": "display_data"
    }
   ],
   "source": [
    "plt.imshow(X_train[0], cmap=\"binary\")\n",
    "plt.axis('off')\n",
    "plt.show()"
   ]
  },
  {
   "cell_type": "markdown",
   "metadata": {},
   "source": [
    "The labels are the class IDs (represented as uint8), from 0 to 9:"
   ]
  },
  {
   "cell_type": "code",
   "execution_count": 9,
   "metadata": {},
   "outputs": [
    {
     "data": {
      "text/plain": [
       "array([7, 3, 4, ..., 5, 6, 8], dtype=uint8)"
      ]
     },
     "execution_count": 9,
     "metadata": {},
     "output_type": "execute_result"
    }
   ],
   "source": [
    "y_train\n"
   ]
  },
  {
   "cell_type": "markdown",
   "metadata": {},
   "source": [
    "Here are the corresponding class names:"
   ]
  },
  {
   "cell_type": "code",
   "execution_count": 10,
   "metadata": {},
   "outputs": [],
   "source": [
    "class_names = [\"zéro\", \"un\", \"deux\", \"trois\", \"quatre\",\n",
    "               \"cinq\", \"Six\", \"Sept\", \"huit\", \"neuf\"]"
   ]
  },
  {
   "cell_type": "markdown",
   "metadata": {},
   "source": [
    "\n",
    "So the first image in the training set is a coat:"
   ]
  },
  {
   "cell_type": "code",
   "execution_count": 11,
   "metadata": {},
   "outputs": [
    {
     "data": {
      "text/plain": [
       "'Sept'"
      ]
     },
     "execution_count": 11,
     "metadata": {},
     "output_type": "execute_result"
    }
   ],
   "source": [
    "class_names[y_train[0]]"
   ]
  },
  {
   "cell_type": "markdown",
   "metadata": {},
   "source": [
    "\n",
    "The validation set contains 5,000 images, and the test set contains 10,000 images:"
   ]
  },
  {
   "cell_type": "code",
   "execution_count": 12,
   "metadata": {},
   "outputs": [
    {
     "data": {
      "text/plain": [
       "(5000, 28, 28)"
      ]
     },
     "execution_count": 12,
     "metadata": {},
     "output_type": "execute_result"
    }
   ],
   "source": [
    "X_valid.shape"
   ]
  },
  {
   "cell_type": "code",
   "execution_count": 13,
   "metadata": {},
   "outputs": [
    {
     "data": {
      "text/plain": [
       "(10000, 28, 28)"
      ]
     },
     "execution_count": 13,
     "metadata": {},
     "output_type": "execute_result"
    }
   ],
   "source": [
    "X_test.shape"
   ]
  },
  {
   "cell_type": "markdown",
   "metadata": {},
   "source": [
    "Let's take a look at a sample of the images in the dataset:"
   ]
  },
  {
   "cell_type": "code",
   "execution_count": 14,
   "metadata": {},
   "outputs": [
    {
     "data": {
      "image/png": "[encoded data removed]",
      "text/plain": [
       "<Figure size 864x345.6 with 40 Axes>"
      ]
     },
     "metadata": {
      "needs_background": "light"
     },
     "output_type": "display_data"
    }
   ],
   "source": [
    "n_rows = 4\n",
    "n_cols = 10\n",
    "plt.figure(figsize=(n_cols * 1.2, n_rows * 1.2))\n",
    "for row in range(n_rows):\n",
    "    for col in range(n_cols):\n",
    "        index = n_cols * row + col\n",
    "        plt.subplot(n_rows, n_cols, index + 1)\n",
    "        plt.imshow(X_train[index], cmap=\"binary\", interpolation=\"nearest\")\n",
    "        plt.axis('off')\n",
    "        plt.title(class_names[y_train[index]], fontsize=12)\n",
    "plt.subplots_adjust(wspace=0.2, hspace=0.5)\n",
    "plt.show()"
   ]
  },
  {
   "cell_type": "markdown",
   "metadata": {},
   "source": [
    "## Construct a Model"
   ]
  },
  {
   "cell_type": "markdown",
   "metadata": {},
   "source": [
    "### model 1 (optimizer ADAM)"
   ]
  },
  {
   "cell_type": "code",
   "execution_count": 15,
   "metadata": {},
   "outputs": [],
   "source": [
    "model1 = keras.models.Sequential()\n",
    "model1.add(keras.layers.Flatten(input_shape=[28, 28]))\n",
    "model1.add(keras.layers.Dense(300, activation=\"relu\"))\n",
    "model1.add(keras.layers.Dense(100, activation=\"relu\"))\n",
    "model1.add(keras.layers.Dense(10, activation=\"softmax\"))"
   ]
  },
  {
   "cell_type": "markdown",
   "metadata": {},
   "source": [
    "### model 2 (optimizer stochastic gradient descent)"
   ]
  },
  {
   "cell_type": "code",
   "execution_count": 16,
   "metadata": {},
   "outputs": [],
   "source": [
    "model2 = keras.models.Sequential()\n",
    "model2.add(keras.layers.Flatten(input_shape=[28, 28]))\n",
    "model2.add(keras.layers.Dense(300, activation=\"relu\"))\n",
    "model2.add(keras.layers.Dense(100, activation=\"relu\"))\n",
    "model2.add(keras.layers.Dense(10, activation=\"softmax\"))"
   ]
  },
  {
   "cell_type": "markdown",
   "metadata": {},
   "source": [
    "###  model 3 (optimizer RMSpop)"
   ]
  },
  {
   "cell_type": "code",
   "execution_count": 17,
   "metadata": {},
   "outputs": [],
   "source": [
    "model3= keras.models.Sequential()\n",
    "model3.add(keras.layers.Flatten(input_shape=[28, 28]))\n",
    "model3.add(keras.layers.Dense(300, activation=\"relu\"))\n",
    "model3.add(keras.layers.Dense(100, activation=\"relu\"))\n",
    "model3.add(keras.layers.Dense(10, activation=\"softmax\"))"
   ]
  },
  {
   "cell_type": "markdown",
   "metadata": {},
   "source": [
    "## Model 4 avec plus de couches (layers) "
   ]
  },
  {
   "cell_type": "code",
   "execution_count": 18,
   "metadata": {},
   "outputs": [],
   "source": [
    "model4 = keras.models.Sequential()\n",
    "model4.add(keras.layers.Flatten(input_shape=[28, 28]))\n",
    "model4.add(keras.layers.Dense(300, activation=\"relu\"))\n",
    "model4.add(keras.layers.Dense(300, activation=\"relu\"))\n",
    "model4.add(keras.layers.Dense(100, activation=\"relu\"))\n",
    "model4.add(keras.layers.Dense(10, activation=\"softmax\"))"
   ]
  },
  {
   "cell_type": "code",
   "execution_count": 19,
   "metadata": {},
   "outputs": [],
   "source": [
    "#keras.backend.clear_session()\n",
    "np.random.seed(42)"
   ]
  },
  {
   "cell_type": "markdown",
   "metadata": {},
   "source": [
    "or using the folowing method"
   ]
  },
  {
   "cell_type": "code",
   "execution_count": 20,
   "metadata": {},
   "outputs": [],
   "source": [
    "#model = keras.models.Sequential([\n",
    "#    keras.layers.Flatten(input_shape=[28, 28]),\n",
    "#    keras.layers.Dense(300, activation=\"relu\"),\n",
    "#    keras.layers.Dense(100, activation=\"relu\"),\n",
    " #   keras.layers.Dense(10, activation=\"softmax\")\n",
    "#])"
   ]
  },
  {
   "cell_type": "code",
   "execution_count": 21,
   "metadata": {},
   "outputs": [
    {
     "data": {
      "text/plain": [
       "[<tensorflow.python.keras.layers.core.Flatten at 0x1fcfe13c5c8>,\n",
       " <tensorflow.python.keras.layers.core.Dense at 0x1fcfe13c1c8>,\n",
       " <tensorflow.python.keras.layers.core.Dense at 0x1fcfe143ec8>,\n",
       " <tensorflow.python.keras.layers.core.Dense at 0x1fcfe14ba88>]"
      ]
     },
     "execution_count": 21,
     "metadata": {},
     "output_type": "execute_result"
    }
   ],
   "source": [
    "model1.layers\n",
    "model2.layers\n",
    "model3.layers"
   ]
  },
  {
   "cell_type": "code",
   "execution_count": 22,
   "metadata": {},
   "outputs": [
    {
     "name": "stdout",
     "output_type": "stream",
     "text": [
      "Model: \"sequential\"\n",
      "_________________________________________________________________\n",
      "Layer (type)                 Output Shape              Param #   \n",
      "=================================================================\n",
      "flatten (Flatten)            (None, 784)               0         \n",
      "_________________________________________________________________\n",
      "dense (Dense)                (None, 300)               235500    \n",
      "_________________________________________________________________\n",
      "dense_1 (Dense)              (None, 100)               30100     \n",
      "_________________________________________________________________\n",
      "dense_2 (Dense)              (None, 10)                1010      \n",
      "=================================================================\n",
      "Total params: 266,610\n",
      "Trainable params: 266,610\n",
      "Non-trainable params: 0\n",
      "_________________________________________________________________\n",
      "Model: \"sequential_1\"\n",
      "_________________________________________________________________\n",
      "Layer (type)                 Output Shape              Param #   \n",
      "=================================================================\n",
      "flatten_1 (Flatten)          (None, 784)               0         \n",
      "_________________________________________________________________\n",
      "dense_3 (Dense)              (None, 300)               235500    \n",
      "_________________________________________________________________\n",
      "dense_4 (Dense)              (None, 100)               30100     \n",
      "_________________________________________________________________\n",
      "dense_5 (Dense)              (None, 10)                1010      \n",
      "=================================================================\n",
      "Total params: 266,610\n",
      "Trainable params: 266,610\n",
      "Non-trainable params: 0\n",
      "_________________________________________________________________\n",
      "Model: \"sequential_2\"\n",
      "_________________________________________________________________\n",
      "Layer (type)                 Output Shape              Param #   \n",
      "=================================================================\n",
      "flatten_2 (Flatten)          (None, 784)               0         \n",
      "_________________________________________________________________\n",
      "dense_6 (Dense)              (None, 300)               235500    \n",
      "_________________________________________________________________\n",
      "dense_7 (Dense)              (None, 100)               30100     \n",
      "_________________________________________________________________\n",
      "dense_8 (Dense)              (None, 10)                1010      \n",
      "=================================================================\n",
      "Total params: 266,610\n",
      "Trainable params: 266,610\n",
      "Non-trainable params: 0\n",
      "_________________________________________________________________\n"
     ]
    }
   ],
   "source": [
    "model1.summary()\n",
    "model2.summary()\n",
    "model3.summary()"
   ]
  },
  {
   "cell_type": "code",
   "execution_count": 23,
   "metadata": {},
   "outputs": [],
   "source": [
    "hidden1_model1 = model1.layers[1]\n",
    "hidden1_model2 = model2.layers[1]\n",
    "hidden1_model3 = model3.layers[1]\n",
    "\n",
    "#hidden1.name"
   ]
  },
  {
   "cell_type": "code",
   "execution_count": 24,
   "metadata": {},
   "outputs": [],
   "source": [
    "hidden1_model4 = model4.layers[1]"
   ]
  },
  {
   "cell_type": "code",
   "execution_count": 25,
   "metadata": {},
   "outputs": [],
   "source": [
    "#model.get_layer(hidden1.name) is hidden1"
   ]
  },
  {
   "cell_type": "code",
   "execution_count": 26,
   "metadata": {},
   "outputs": [],
   "source": [
    "weights1, biases1 = hidden1_model1.get_weights()\n",
    "weights2, biases2 = hidden1_model2.get_weights()\n",
    "weights3, biases3 = hidden1_model3.get_weights()\n"
   ]
  },
  {
   "cell_type": "code",
   "execution_count": 27,
   "metadata": {},
   "outputs": [],
   "source": [
    "weights4, biases4 = hidden1_model4.get_weights()"
   ]
  },
  {
   "cell_type": "code",
   "execution_count": 28,
   "metadata": {},
   "outputs": [
    {
     "data": {
      "text/plain": [
       "array([[-0.01674879, -0.02868662, -0.00038206, ..., -0.04018766,\n",
       "        -0.06604797,  0.0038299 ],\n",
       "       [ 0.03526174,  0.03079321, -0.00040033, ...,  0.00533298,\n",
       "        -0.05704462,  0.04388308],\n",
       "       [-0.02316871,  0.0595455 ,  0.03156346, ..., -0.06919226,\n",
       "         0.05181351,  0.0540944 ],\n",
       "       ...,\n",
       "       [-0.00452622, -0.0317004 ,  0.0084636 , ...,  0.04774337,\n",
       "         0.00499874, -0.05765729],\n",
       "       [ 0.01855864, -0.02074662,  0.00226238, ...,  0.00110906,\n",
       "         0.02596242,  0.07078271],\n",
       "       [-0.07064608,  0.05294372,  0.04101006, ...,  0.03896308,\n",
       "         0.03557915,  0.05426408]], dtype=float32)"
      ]
     },
     "execution_count": 28,
     "metadata": {},
     "output_type": "execute_result"
    }
   ],
   "source": [
    "weights1\n",
    "weights2\n",
    "weights3\n",
    "\n"
   ]
  },
  {
   "cell_type": "code",
   "execution_count": 29,
   "metadata": {},
   "outputs": [
    {
     "data": {
      "text/plain": [
       "array([[-0.0353255 ,  0.0465942 ,  0.00821862, ..., -0.01471258,\n",
       "         0.07165918, -0.06694864],\n",
       "       [-0.06875318,  0.06889093, -0.0091166 , ...,  0.05952078,\n",
       "        -0.02018782, -0.05272029],\n",
       "       [-0.05802792, -0.04071699,  0.06180595, ..., -0.05641326,\n",
       "         0.02113868,  0.00837674],\n",
       "       ...,\n",
       "       [ 0.04135116,  0.01011708,  0.02524745, ..., -0.04243189,\n",
       "         0.02910008, -0.07015689],\n",
       "       [-0.02586035, -0.00641138, -0.0388787 , ...,  0.04837304,\n",
       "        -0.05272171,  0.03404637],\n",
       "       [ 0.05847476, -0.05402067,  0.00851222, ..., -0.02021856,\n",
       "        -0.04332919,  0.0566061 ]], dtype=float32)"
      ]
     },
     "execution_count": 29,
     "metadata": {},
     "output_type": "execute_result"
    }
   ],
   "source": [
    "weights4"
   ]
  },
  {
   "cell_type": "code",
   "execution_count": 30,
   "metadata": {},
   "outputs": [
    {
     "data": {
      "text/plain": [
       "(784, 300)"
      ]
     },
     "execution_count": 30,
     "metadata": {},
     "output_type": "execute_result"
    }
   ],
   "source": [
    "weights1.shape\n",
    "weights2.shape\n",
    "weights3.shape\n"
   ]
  },
  {
   "cell_type": "code",
   "execution_count": 31,
   "metadata": {},
   "outputs": [
    {
     "data": {
      "text/plain": [
       "(784, 300)"
      ]
     },
     "execution_count": 31,
     "metadata": {},
     "output_type": "execute_result"
    }
   ],
   "source": [
    "weights4.shape"
   ]
  },
  {
   "cell_type": "code",
   "execution_count": 32,
   "metadata": {},
   "outputs": [
    {
     "data": {
      "text/plain": [
       "array([0., 0., 0., 0., 0., 0., 0., 0., 0., 0., 0., 0., 0., 0., 0., 0., 0.,\n",
       "       0., 0., 0., 0., 0., 0., 0., 0., 0., 0., 0., 0., 0., 0., 0., 0., 0.,\n",
       "       0., 0., 0., 0., 0., 0., 0., 0., 0., 0., 0., 0., 0., 0., 0., 0., 0.,\n",
       "       0., 0., 0., 0., 0., 0., 0., 0., 0., 0., 0., 0., 0., 0., 0., 0., 0.,\n",
       "       0., 0., 0., 0., 0., 0., 0., 0., 0., 0., 0., 0., 0., 0., 0., 0., 0.,\n",
       "       0., 0., 0., 0., 0., 0., 0., 0., 0., 0., 0., 0., 0., 0., 0., 0., 0.,\n",
       "       0., 0., 0., 0., 0., 0., 0., 0., 0., 0., 0., 0., 0., 0., 0., 0., 0.,\n",
       "       0., 0., 0., 0., 0., 0., 0., 0., 0., 0., 0., 0., 0., 0., 0., 0., 0.,\n",
       "       0., 0., 0., 0., 0., 0., 0., 0., 0., 0., 0., 0., 0., 0., 0., 0., 0.,\n",
       "       0., 0., 0., 0., 0., 0., 0., 0., 0., 0., 0., 0., 0., 0., 0., 0., 0.,\n",
       "       0., 0., 0., 0., 0., 0., 0., 0., 0., 0., 0., 0., 0., 0., 0., 0., 0.,\n",
       "       0., 0., 0., 0., 0., 0., 0., 0., 0., 0., 0., 0., 0., 0., 0., 0., 0.,\n",
       "       0., 0., 0., 0., 0., 0., 0., 0., 0., 0., 0., 0., 0., 0., 0., 0., 0.,\n",
       "       0., 0., 0., 0., 0., 0., 0., 0., 0., 0., 0., 0., 0., 0., 0., 0., 0.,\n",
       "       0., 0., 0., 0., 0., 0., 0., 0., 0., 0., 0., 0., 0., 0., 0., 0., 0.,\n",
       "       0., 0., 0., 0., 0., 0., 0., 0., 0., 0., 0., 0., 0., 0., 0., 0., 0.,\n",
       "       0., 0., 0., 0., 0., 0., 0., 0., 0., 0., 0., 0., 0., 0., 0., 0., 0.,\n",
       "       0., 0., 0., 0., 0., 0., 0., 0., 0., 0., 0.], dtype=float32)"
      ]
     },
     "execution_count": 32,
     "metadata": {},
     "output_type": "execute_result"
    }
   ],
   "source": [
    "biases2"
   ]
  },
  {
   "cell_type": "code",
   "execution_count": 33,
   "metadata": {},
   "outputs": [
    {
     "data": {
      "text/plain": [
       "(300,)"
      ]
     },
     "execution_count": 33,
     "metadata": {},
     "output_type": "execute_result"
    }
   ],
   "source": [
    "biases1.shape"
   ]
  },
  {
   "cell_type": "markdown",
   "metadata": {},
   "source": [
    "## Compile the Model"
   ]
  },
  {
   "cell_type": "markdown",
   "metadata": {},
   "source": [
    "Here you can chose the loss function, the optimizer, the performance metric, etc. check Keras documentation for further details."
   ]
  },
  {
   "cell_type": "code",
   "execution_count": 34,
   "metadata": {},
   "outputs": [],
   "source": [
    "# with optimizer ADAM\n",
    "model1.compile(loss=\"sparse_categorical_crossentropy\",\n",
    "            optimizer=\"Adam\",\n",
    "           metrics=[\"accuracy\"])"
   ]
  },
  {
   "cell_type": "code",
   "execution_count": 35,
   "metadata": {},
   "outputs": [],
   "source": [
    "#with optimizer stochastic gradient descent\n",
    "model2.compile(loss=\"sparse_categorical_crossentropy\",\n",
    "              optimizer=\"sgd\",\n",
    "              metrics=[\"accuracy\"])"
   ]
  },
  {
   "cell_type": "code",
   "execution_count": 36,
   "metadata": {},
   "outputs": [],
   "source": [
    "#with optimizer RMSprop\n",
    "model3.compile(loss=\"sparse_categorical_crossentropy\",\n",
    "              optimizer=\"RMSprop\",\n",
    "              metrics=[\"accuracy\"])"
   ]
  },
  {
   "cell_type": "code",
   "execution_count": 37,
   "metadata": {},
   "outputs": [],
   "source": [
    "model4.compile(loss=\"sparse_categorical_crossentropy\",\n",
    "              optimizer=\"Adam\",\n",
    "              metrics=[\"accuracy\"])"
   ]
  },
  {
   "cell_type": "markdown",
   "metadata": {},
   "source": [
    "#This is equivalent to:\n",
    "\n",
    "model.compile(loss=keras.losses.sparse_categorical_crossentropy,\n",
    "              optimizer=keras.optimizers.SGD(),\n",
    "              metrics=[keras.metrics.sparse_categorical_accuracy])"
   ]
  },
  {
   "cell_type": "markdown",
   "metadata": {},
   "source": [
    "## Train the model"
   ]
  },
  {
   "cell_type": "markdown",
   "metadata": {},
   "source": [
    "Here you can chose how many epochs you need and the batch size."
   ]
  },
  {
   "cell_type": "markdown",
   "metadata": {},
   "source": [
    "#### training model1"
   ]
  },
  {
   "cell_type": "code",
   "execution_count": 38,
   "metadata": {},
   "outputs": [
    {
     "name": "stdout",
     "output_type": "stream",
     "text": [
      "Epoch 1/50\n",
      "1100/1100 [==============================] - 6s 5ms/step - loss: 0.2311 - accuracy: 0.9321 - val_loss: 0.1137 - val_accuracy: 0.9664\n",
      "Epoch 2/50\n",
      "1100/1100 [==============================] - 5s 4ms/step - loss: 0.0876 - accuracy: 0.9731 - val_loss: 0.0840 - val_accuracy: 0.9710\n",
      "Epoch 3/50\n",
      "1100/1100 [==============================] - 5s 4ms/step - loss: 0.0595 - accuracy: 0.9810 - val_loss: 0.0787 - val_accuracy: 0.9766\n",
      "Epoch 4/50\n",
      "1100/1100 [==============================] - 5s 5ms/step - loss: 0.0414 - accuracy: 0.9867 - val_loss: 0.0606 - val_accuracy: 0.9820\n",
      "Epoch 5/50\n",
      "1100/1100 [==============================] - 5s 5ms/step - loss: 0.0324 - accuracy: 0.9892 - val_loss: 0.0775 - val_accuracy: 0.9784\n",
      "Epoch 6/50\n",
      "1100/1100 [==============================] - 5s 5ms/step - loss: 0.0270 - accuracy: 0.9909 - val_loss: 0.0715 - val_accuracy: 0.9814\n",
      "Epoch 7/50\n",
      "1100/1100 [==============================] - 5s 5ms/step - loss: 0.0209 - accuracy: 0.9930 - val_loss: 0.0705 - val_accuracy: 0.9792\n",
      "Epoch 8/50\n",
      "1100/1100 [==============================] - 5s 4ms/step - loss: 0.0181 - accuracy: 0.9940 - val_loss: 0.0810 - val_accuracy: 0.9792\n",
      "Epoch 9/50\n",
      "1100/1100 [==============================] - 5s 5ms/step - loss: 0.0157 - accuracy: 0.9949 - val_loss: 0.0764 - val_accuracy: 0.9826\n",
      "Epoch 10/50\n",
      "1100/1100 [==============================] - 5s 5ms/step - loss: 0.0139 - accuracy: 0.9954 - val_loss: 0.0955 - val_accuracy: 0.9786\n",
      "Epoch 11/50\n",
      "1100/1100 [==============================] - 5s 4ms/step - loss: 0.0136 - accuracy: 0.9955 - val_loss: 0.0986 - val_accuracy: 0.9778\n",
      "Epoch 12/50\n",
      "1100/1100 [==============================] - 5s 5ms/step - loss: 0.0124 - accuracy: 0.9956 - val_loss: 0.0802 - val_accuracy: 0.9832\n",
      "Epoch 13/50\n",
      "1100/1100 [==============================] - 5s 4ms/step - loss: 0.0122 - accuracy: 0.9958 - val_loss: 0.1033 - val_accuracy: 0.9812\n",
      "Epoch 14/50\n",
      "1100/1100 [==============================] - 5s 4ms/step - loss: 0.0096 - accuracy: 0.9969 - val_loss: 0.0953 - val_accuracy: 0.9808\n",
      "Epoch 15/50\n",
      "1100/1100 [==============================] - 5s 4ms/step - loss: 0.0099 - accuracy: 0.9967 - val_loss: 0.0874 - val_accuracy: 0.9836\n",
      "Epoch 16/50\n",
      "1100/1100 [==============================] - 5s 4ms/step - loss: 0.0120 - accuracy: 0.9962 - val_loss: 0.1024 - val_accuracy: 0.9812\n",
      "Epoch 17/50\n",
      "1100/1100 [==============================] - 5s 4ms/step - loss: 0.0085 - accuracy: 0.9973 - val_loss: 0.0833 - val_accuracy: 0.9844\n",
      "Epoch 18/50\n",
      "1100/1100 [==============================] - 5s 4ms/step - loss: 0.0077 - accuracy: 0.9973 - val_loss: 0.1171 - val_accuracy: 0.9812\n",
      "Epoch 19/50\n",
      "1100/1100 [==============================] - 5s 4ms/step - loss: 0.0111 - accuracy: 0.9962 - val_loss: 0.1030 - val_accuracy: 0.9824\n",
      "Epoch 20/50\n",
      "1100/1100 [==============================] - 5s 4ms/step - loss: 0.0045 - accuracy: 0.9985 - val_loss: 0.1159 - val_accuracy: 0.9808\n",
      "Epoch 21/50\n",
      "1100/1100 [==============================] - 5s 4ms/step - loss: 0.0108 - accuracy: 0.9967 - val_loss: 0.1030 - val_accuracy: 0.9820\n",
      "Epoch 22/50\n",
      "1100/1100 [==============================] - 5s 4ms/step - loss: 0.0091 - accuracy: 0.9971 - val_loss: 0.1137 - val_accuracy: 0.9812\n",
      "Epoch 23/50\n",
      "1100/1100 [==============================] - 5s 4ms/step - loss: 0.0049 - accuracy: 0.9984 - val_loss: 0.1312 - val_accuracy: 0.9804\n",
      "Epoch 24/50\n",
      "1100/1100 [==============================] - 5s 5ms/step - loss: 0.0072 - accuracy: 0.9979 - val_loss: 0.1186 - val_accuracy: 0.9826\n",
      "Epoch 25/50\n",
      "1100/1100 [==============================] - 5s 5ms/step - loss: 0.0090 - accuracy: 0.9972 - val_loss: 0.1407 - val_accuracy: 0.9798\n",
      "Epoch 26/50\n",
      "1100/1100 [==============================] - 5s 4ms/step - loss: 0.0066 - accuracy: 0.9981 - val_loss: 0.1107 - val_accuracy: 0.9828\n",
      "Epoch 27/50\n",
      "1100/1100 [==============================] - 5s 4ms/step - loss: 0.0090 - accuracy: 0.9974 - val_loss: 0.1455 - val_accuracy: 0.9794\n",
      "Epoch 28/50\n",
      "1100/1100 [==============================] - 5s 5ms/step - loss: 0.0028 - accuracy: 0.9992 - val_loss: 0.1198 - val_accuracy: 0.9826\n",
      "Epoch 29/50\n",
      "1100/1100 [==============================] - 5s 5ms/step - loss: 0.0098 - accuracy: 0.9973 - val_loss: 0.1385 - val_accuracy: 0.9780\n",
      "Epoch 30/50\n",
      "1100/1100 [==============================] - 5s 5ms/step - loss: 0.0071 - accuracy: 0.9978 - val_loss: 0.1392 - val_accuracy: 0.9806\n",
      "Epoch 31/50\n",
      "1100/1100 [==============================] - 5s 5ms/step - loss: 0.0051 - accuracy: 0.9983 - val_loss: 0.1143 - val_accuracy: 0.9834\n",
      "Epoch 32/50\n",
      "1100/1100 [==============================] - 5s 5ms/step - loss: 0.0067 - accuracy: 0.9979 - val_loss: 0.1291 - val_accuracy: 0.9832\n",
      "Epoch 33/50\n",
      "1100/1100 [==============================] - 5s 4ms/step - loss: 0.0049 - accuracy: 0.9986 - val_loss: 0.1172 - val_accuracy: 0.9838\n",
      "Epoch 34/50\n",
      "1100/1100 [==============================] - 5s 4ms/step - loss: 0.0052 - accuracy: 0.9983 - val_loss: 0.1219 - val_accuracy: 0.9826\n",
      "Epoch 35/50\n",
      "1100/1100 [==============================] - 5s 4ms/step - loss: 0.0044 - accuracy: 0.9989 - val_loss: 0.1704 - val_accuracy: 0.9792\n",
      "Epoch 36/50\n",
      "1100/1100 [==============================] - 5s 4ms/step - loss: 0.0085 - accuracy: 0.9974 - val_loss: 0.1303 - val_accuracy: 0.9828\n",
      "Epoch 37/50\n",
      "1100/1100 [==============================] - 5s 4ms/step - loss: 0.0041 - accuracy: 0.9989 - val_loss: 0.1182 - val_accuracy: 0.9842\n",
      "Epoch 38/50\n",
      "1100/1100 [==============================] - 5s 4ms/step - loss: 0.0045 - accuracy: 0.9985 - val_loss: 0.1347 - val_accuracy: 0.9820\n",
      "Epoch 39/50\n",
      "1100/1100 [==============================] - 5s 4ms/step - loss: 0.0067 - accuracy: 0.9980 - val_loss: 0.1427 - val_accuracy: 0.9822\n",
      "Epoch 40/50\n",
      "1100/1100 [==============================] - 5s 5ms/step - loss: 0.0053 - accuracy: 0.9983 - val_loss: 0.1253 - val_accuracy: 0.9830\n",
      "Epoch 41/50\n",
      "1100/1100 [==============================] - 5s 4ms/step - loss: 0.0062 - accuracy: 0.9983 - val_loss: 0.1490 - val_accuracy: 0.9818\n",
      "Epoch 42/50\n",
      "1100/1100 [==============================] - 5s 4ms/step - loss: 0.0054 - accuracy: 0.9984 - val_loss: 0.1298 - val_accuracy: 0.9838\n",
      "Epoch 43/50\n",
      "1100/1100 [==============================] - 5s 4ms/step - loss: 0.0034 - accuracy: 0.9992 - val_loss: 0.1254 - val_accuracy: 0.9844\n",
      "Epoch 44/50\n",
      "1100/1100 [==============================] - 5s 4ms/step - loss: 0.0053 - accuracy: 0.9984 - val_loss: 0.1468 - val_accuracy: 0.9792\n",
      "Epoch 45/50\n",
      "1100/1100 [==============================] - 4s 4ms/step - loss: 0.0053 - accuracy: 0.9985 - val_loss: 0.1461 - val_accuracy: 0.9824\n",
      "Epoch 46/50\n",
      "1100/1100 [==============================] - 5s 4ms/step - loss: 0.0064 - accuracy: 0.9983 - val_loss: 0.1629 - val_accuracy: 0.9828\n",
      "Epoch 47/50\n",
      "1100/1100 [==============================] - 5s 4ms/step - loss: 0.0047 - accuracy: 0.9988 - val_loss: 0.1380 - val_accuracy: 0.9828\n",
      "Epoch 48/50\n",
      "1100/1100 [==============================] - 5s 4ms/step - loss: 0.0015 - accuracy: 0.9996 - val_loss: 0.1265 - val_accuracy: 0.9846\n",
      "Epoch 49/50\n",
      "1100/1100 [==============================] - 6s 5ms/step - loss: 0.0036 - accuracy: 0.9989 - val_loss: 0.1434 - val_accuracy: 0.9834\n",
      "Epoch 50/50\n",
      "1100/1100 [==============================] - 5s 5ms/step - loss: 0.0088 - accuracy: 0.9977 - val_loss: 0.1499 - val_accuracy: 0.9838\n"
     ]
    }
   ],
   "source": [
    "history1 = model1.fit(X_train, y_train, batch_size=50, epochs=50,\n",
    "                    validation_data=(X_valid, y_valid))"
   ]
  },
  {
   "cell_type": "markdown",
   "metadata": {},
   "source": [
    "#### training model 2(optimizer SGD)"
   ]
  },
  {
   "cell_type": "code",
   "execution_count": 39,
   "metadata": {},
   "outputs": [
    {
     "name": "stdout",
     "output_type": "stream",
     "text": [
      "Epoch 1/50\n",
      "1100/1100 [==============================] - ETA: 0s - loss: 0.7551 - accuracy: 0.8024WARNING:tensorflow:Callbacks method `on_test_batch_end` is slow compared to the batch time (batch time: 0.0020s vs `on_test_batch_end` time: 0.0150s). Check your callbacks.\n",
      "1100/1100 [==============================] - 4s 4ms/step - loss: 0.7551 - accuracy: 0.8024 - val_loss: 0.3673 - val_accuracy: 0.9020\n",
      "Epoch 2/50\n",
      "1100/1100 [==============================] - 4s 4ms/step - loss: 0.3372 - accuracy: 0.9042 - val_loss: 0.2823 - val_accuracy: 0.9222\n",
      "Epoch 3/50\n",
      "1100/1100 [==============================] - 4s 4ms/step - loss: 0.2793 - accuracy: 0.9206 - val_loss: 0.2431 - val_accuracy: 0.9308\n",
      "Epoch 4/50\n",
      "1100/1100 [==============================] - 4s 4ms/step - loss: 0.2454 - accuracy: 0.9304 - val_loss: 0.2175 - val_accuracy: 0.9372\n",
      "Epoch 5/50\n",
      "1100/1100 [==============================] - 4s 4ms/step - loss: 0.2196 - accuracy: 0.9384 - val_loss: 0.1965 - val_accuracy: 0.9438\n",
      "Epoch 6/50\n",
      "1100/1100 [==============================] - 4s 4ms/step - loss: 0.1989 - accuracy: 0.9437 - val_loss: 0.1799 - val_accuracy: 0.9516\n",
      "Epoch 7/50\n",
      "1100/1100 [==============================] - 4s 4ms/step - loss: 0.1820 - accuracy: 0.9483 - val_loss: 0.1699 - val_accuracy: 0.9536\n",
      "Epoch 8/50\n",
      "1100/1100 [==============================] - 4s 4ms/step - loss: 0.1673 - accuracy: 0.9529 - val_loss: 0.1570 - val_accuracy: 0.9582\n",
      "Epoch 9/50\n",
      "1100/1100 [==============================] - 4s 3ms/step - loss: 0.1550 - accuracy: 0.9559 - val_loss: 0.1463 - val_accuracy: 0.9590\n",
      "Epoch 10/50\n",
      "1100/1100 [==============================] - 4s 3ms/step - loss: 0.1438 - accuracy: 0.9588 - val_loss: 0.1375 - val_accuracy: 0.9646\n",
      "Epoch 11/50\n",
      "1100/1100 [==============================] - 3s 3ms/step - loss: 0.1345 - accuracy: 0.9615 - val_loss: 0.1311 - val_accuracy: 0.9640\n",
      "Epoch 12/50\n",
      "1100/1100 [==============================] - 4s 3ms/step - loss: 0.1257 - accuracy: 0.9645 - val_loss: 0.1259 - val_accuracy: 0.9652\n",
      "Epoch 13/50\n",
      "1100/1100 [==============================] - 4s 3ms/step - loss: 0.1183 - accuracy: 0.9668 - val_loss: 0.1193 - val_accuracy: 0.9672\n",
      "Epoch 14/50\n",
      "1100/1100 [==============================] - 3s 3ms/step - loss: 0.1112 - accuracy: 0.9688 - val_loss: 0.1148 - val_accuracy: 0.9664\n",
      "Epoch 15/50\n",
      "1100/1100 [==============================] - 3s 3ms/step - loss: 0.1051 - accuracy: 0.9698 - val_loss: 0.1105 - val_accuracy: 0.9698\n",
      "Epoch 16/50\n",
      "1100/1100 [==============================] - 4s 3ms/step - loss: 0.0992 - accuracy: 0.9720 - val_loss: 0.1070 - val_accuracy: 0.9684\n",
      "Epoch 17/50\n",
      "1100/1100 [==============================] - 5s 4ms/step - loss: 0.0940 - accuracy: 0.9736 - val_loss: 0.1033 - val_accuracy: 0.9714\n",
      "Epoch 18/50\n",
      "1100/1100 [==============================] - 5s 5ms/step - loss: 0.0892 - accuracy: 0.9757 - val_loss: 0.0997 - val_accuracy: 0.9716\n",
      "Epoch 19/50\n",
      "1100/1100 [==============================] - 5s 5ms/step - loss: 0.0846 - accuracy: 0.9764 - val_loss: 0.0981 - val_accuracy: 0.9720\n",
      "Epoch 20/50\n",
      "1100/1100 [==============================] - 5s 5ms/step - loss: 0.0805 - accuracy: 0.9776 - val_loss: 0.0926 - val_accuracy: 0.9746\n",
      "Epoch 21/50\n",
      "1100/1100 [==============================] - 5s 5ms/step - loss: 0.0768 - accuracy: 0.9790 - val_loss: 0.0919 - val_accuracy: 0.9742\n",
      "Epoch 22/50\n",
      "1100/1100 [==============================] - 5s 4ms/step - loss: 0.0730 - accuracy: 0.9797 - val_loss: 0.0883 - val_accuracy: 0.9756\n",
      "Epoch 23/50\n",
      "1100/1100 [==============================] - 5s 4ms/step - loss: 0.0698 - accuracy: 0.9809 - val_loss: 0.0872 - val_accuracy: 0.9750\n",
      "Epoch 24/50\n",
      "1100/1100 [==============================] - 4s 4ms/step - loss: 0.0665 - accuracy: 0.9819 - val_loss: 0.0864 - val_accuracy: 0.9752\n",
      "Epoch 25/50\n",
      "1100/1100 [==============================] - 5s 4ms/step - loss: 0.0634 - accuracy: 0.9827 - val_loss: 0.0826 - val_accuracy: 0.9764\n",
      "Epoch 26/50\n",
      "1100/1100 [==============================] - 5s 5ms/step - loss: 0.0607 - accuracy: 0.9839 - val_loss: 0.0816 - val_accuracy: 0.9754\n",
      "Epoch 27/50\n",
      "1100/1100 [==============================] - 5s 5ms/step - loss: 0.0580 - accuracy: 0.9846 - val_loss: 0.0823 - val_accuracy: 0.9756\n",
      "Epoch 28/50\n",
      "1100/1100 [==============================] - 5s 5ms/step - loss: 0.0557 - accuracy: 0.9851 - val_loss: 0.0811 - val_accuracy: 0.9752\n",
      "Epoch 29/50\n",
      "1100/1100 [==============================] - 5s 5ms/step - loss: 0.0533 - accuracy: 0.9858 - val_loss: 0.0767 - val_accuracy: 0.9766\n",
      "Epoch 30/50\n",
      "1100/1100 [==============================] - 4s 4ms/step - loss: 0.0511 - accuracy: 0.9865 - val_loss: 0.0780 - val_accuracy: 0.9762\n",
      "Epoch 31/50\n",
      "1100/1100 [==============================] - 4s 4ms/step - loss: 0.0488 - accuracy: 0.9870 - val_loss: 0.0766 - val_accuracy: 0.9764\n",
      "Epoch 32/50\n",
      "1100/1100 [==============================] - 5s 4ms/step - loss: 0.0470 - accuracy: 0.9878 - val_loss: 0.0761 - val_accuracy: 0.9764\n",
      "Epoch 33/50\n",
      "1100/1100 [==============================] - 5s 4ms/step - loss: 0.0448 - accuracy: 0.9887 - val_loss: 0.0739 - val_accuracy: 0.9780\n",
      "Epoch 34/50\n",
      "1100/1100 [==============================] - 5s 4ms/step - loss: 0.0430 - accuracy: 0.9890 - val_loss: 0.0738 - val_accuracy: 0.9770\n",
      "Epoch 35/50\n",
      "1100/1100 [==============================] - 4s 4ms/step - loss: 0.0416 - accuracy: 0.9893 - val_loss: 0.0730 - val_accuracy: 0.9776\n",
      "Epoch 36/50\n",
      "1100/1100 [==============================] - 4s 4ms/step - loss: 0.0399 - accuracy: 0.9897 - val_loss: 0.0721 - val_accuracy: 0.9770\n",
      "Epoch 37/50\n",
      "1100/1100 [==============================] - 5s 4ms/step - loss: 0.0382 - accuracy: 0.9903 - val_loss: 0.0710 - val_accuracy: 0.9784\n",
      "Epoch 38/50\n",
      "1100/1100 [==============================] - 4s 4ms/step - loss: 0.0369 - accuracy: 0.9906 - val_loss: 0.0714 - val_accuracy: 0.9784\n",
      "Epoch 39/50\n",
      "1100/1100 [==============================] - 5s 4ms/step - loss: 0.0354 - accuracy: 0.9913 - val_loss: 0.0714 - val_accuracy: 0.9780\n",
      "Epoch 40/50\n",
      "1100/1100 [==============================] - 5s 4ms/step - loss: 0.0341 - accuracy: 0.9915 - val_loss: 0.0698 - val_accuracy: 0.9790\n",
      "Epoch 41/50\n",
      "1100/1100 [==============================] - 5s 4ms/step - loss: 0.0326 - accuracy: 0.9921 - val_loss: 0.0714 - val_accuracy: 0.9778\n",
      "Epoch 42/50\n",
      "1100/1100 [==============================] - 5s 4ms/step - loss: 0.0315 - accuracy: 0.9926 - val_loss: 0.0689 - val_accuracy: 0.9774\n",
      "Epoch 43/50\n",
      "1100/1100 [==============================] - 5s 4ms/step - loss: 0.0301 - accuracy: 0.9929 - val_loss: 0.0705 - val_accuracy: 0.9782\n",
      "Epoch 44/50\n",
      "1100/1100 [==============================] - 4s 4ms/step - loss: 0.0291 - accuracy: 0.9931 - val_loss: 0.0690 - val_accuracy: 0.9776\n",
      "Epoch 45/50\n",
      "1100/1100 [==============================] - 4s 4ms/step - loss: 0.0280 - accuracy: 0.9936 - val_loss: 0.0677 - val_accuracy: 0.9788\n",
      "Epoch 46/50\n",
      "1100/1100 [==============================] - 5s 4ms/step - loss: 0.0269 - accuracy: 0.9940 - val_loss: 0.0681 - val_accuracy: 0.9782\n",
      "Epoch 47/50\n",
      "1100/1100 [==============================] - 5s 4ms/step - loss: 0.0259 - accuracy: 0.9941 - val_loss: 0.0679 - val_accuracy: 0.9778\n",
      "Epoch 48/50\n",
      "1100/1100 [==============================] - 5s 4ms/step - loss: 0.0251 - accuracy: 0.9948 - val_loss: 0.0674 - val_accuracy: 0.9784\n",
      "Epoch 49/50\n",
      "1100/1100 [==============================] - 5s 4ms/step - loss: 0.0242 - accuracy: 0.9949 - val_loss: 0.0672 - val_accuracy: 0.9786\n",
      "Epoch 50/50\n",
      "1100/1100 [==============================] - 5s 4ms/step - loss: 0.0231 - accuracy: 0.9953 - val_loss: 0.0664 - val_accuracy: 0.9786\n"
     ]
    }
   ],
   "source": [
    "history2 = model2.fit(X_train, y_train, batch_size=50, epochs=50,\n",
    "                    validation_data=(X_valid, y_valid))"
   ]
  },
  {
   "cell_type": "markdown",
   "metadata": {},
   "source": [
    "#### trainingmodel 3 (optimizer RMSpop)"
   ]
  },
  {
   "cell_type": "code",
   "execution_count": 40,
   "metadata": {},
   "outputs": [
    {
     "name": "stdout",
     "output_type": "stream",
     "text": [
      "Epoch 1/50\n",
      "1100/1100 [==============================] - 7s 6ms/step - loss: 0.2230 - accuracy: 0.9339 - val_loss: 0.1089 - val_accuracy: 0.9670\n",
      "Epoch 2/50\n",
      "1100/1100 [==============================] - 6s 6ms/step - loss: 0.0954 - accuracy: 0.9714 - val_loss: 0.0893 - val_accuracy: 0.9750\n",
      "Epoch 3/50\n",
      "1100/1100 [==============================] - 6s 5ms/step - loss: 0.0677 - accuracy: 0.9801 - val_loss: 0.0871 - val_accuracy: 0.9770\n",
      "Epoch 4/50\n",
      "1100/1100 [==============================] - 6s 5ms/step - loss: 0.0502 - accuracy: 0.9849 - val_loss: 0.0947 - val_accuracy: 0.9742\n",
      "Epoch 5/50\n",
      "1100/1100 [==============================] - 6s 5ms/step - loss: 0.0392 - accuracy: 0.9888 - val_loss: 0.0794 - val_accuracy: 0.9798\n",
      "Epoch 6/50\n",
      "1100/1100 [==============================] - 6s 5ms/step - loss: 0.0301 - accuracy: 0.9908 - val_loss: 0.0839 - val_accuracy: 0.9812\n",
      "Epoch 7/50\n",
      "1100/1100 [==============================] - 6s 5ms/step - loss: 0.0246 - accuracy: 0.9931 - val_loss: 0.0829 - val_accuracy: 0.9826\n",
      "Epoch 8/50\n",
      "1100/1100 [==============================] - 6s 6ms/step - loss: 0.0216 - accuracy: 0.9937 - val_loss: 0.1093 - val_accuracy: 0.9802\n",
      "Epoch 9/50\n",
      "1100/1100 [==============================] - 6s 6ms/step - loss: 0.0177 - accuracy: 0.9950 - val_loss: 0.1113 - val_accuracy: 0.9794\n",
      "Epoch 10/50\n",
      "1100/1100 [==============================] - 6s 6ms/step - loss: 0.0162 - accuracy: 0.9954 - val_loss: 0.1021 - val_accuracy: 0.9834\n",
      "Epoch 11/50\n",
      "1100/1100 [==============================] - 6s 5ms/step - loss: 0.0122 - accuracy: 0.9965 - val_loss: 0.1119 - val_accuracy: 0.9800\n",
      "Epoch 12/50\n",
      "1100/1100 [==============================] - 6s 6ms/step - loss: 0.0110 - accuracy: 0.9967 - val_loss: 0.1327 - val_accuracy: 0.9806\n",
      "Epoch 13/50\n",
      "1100/1100 [==============================] - 6s 5ms/step - loss: 0.0105 - accuracy: 0.9971 - val_loss: 0.1175 - val_accuracy: 0.9812\n",
      "Epoch 14/50\n",
      "1100/1100 [==============================] - 7s 6ms/step - loss: 0.0088 - accuracy: 0.9974 - val_loss: 0.1134 - val_accuracy: 0.9826\n",
      "Epoch 15/50\n",
      "1100/1100 [==============================] - 6s 6ms/step - loss: 0.0075 - accuracy: 0.9978 - val_loss: 0.1563 - val_accuracy: 0.9804\n",
      "Epoch 16/50\n",
      "1100/1100 [==============================] - 6s 6ms/step - loss: 0.0067 - accuracy: 0.9980 - val_loss: 0.1487 - val_accuracy: 0.9808\n",
      "Epoch 17/50\n",
      "1100/1100 [==============================] - 6s 5ms/step - loss: 0.0067 - accuracy: 0.9980 - val_loss: 0.1644 - val_accuracy: 0.9804\n",
      "Epoch 18/50\n",
      "1100/1100 [==============================] - 6s 6ms/step - loss: 0.0054 - accuracy: 0.9985 - val_loss: 0.1750 - val_accuracy: 0.9796\n",
      "Epoch 19/50\n",
      "1100/1100 [==============================] - 6s 6ms/step - loss: 0.0049 - accuracy: 0.9986 - val_loss: 0.1553 - val_accuracy: 0.9822\n",
      "Epoch 20/50\n",
      "1100/1100 [==============================] - 6s 5ms/step - loss: 0.0047 - accuracy: 0.9988 - val_loss: 0.1773 - val_accuracy: 0.9780\n",
      "Epoch 21/50\n",
      "1100/1100 [==============================] - 6s 6ms/step - loss: 0.0062 - accuracy: 0.9984 - val_loss: 0.1611 - val_accuracy: 0.9826\n",
      "Epoch 22/50\n",
      "1100/1100 [==============================] - 7s 6ms/step - loss: 0.0039 - accuracy: 0.9990 - val_loss: 0.1895 - val_accuracy: 0.9810\n",
      "Epoch 23/50\n",
      "1100/1100 [==============================] - 6s 6ms/step - loss: 0.0046 - accuracy: 0.9987 - val_loss: 0.1601 - val_accuracy: 0.9820\n",
      "Epoch 24/50\n",
      "1100/1100 [==============================] - 6s 6ms/step - loss: 0.0036 - accuracy: 0.9990 - val_loss: 0.2094 - val_accuracy: 0.9820\n",
      "Epoch 25/50\n",
      "1100/1100 [==============================] - 6s 6ms/step - loss: 0.0033 - accuracy: 0.9990 - val_loss: 0.1989 - val_accuracy: 0.9824\n",
      "Epoch 26/50\n",
      "1100/1100 [==============================] - 6s 6ms/step - loss: 0.0035 - accuracy: 0.9992 - val_loss: 0.1789 - val_accuracy: 0.9838\n",
      "Epoch 27/50\n",
      "1100/1100 [==============================] - 7s 6ms/step - loss: 0.0034 - accuracy: 0.9992 - val_loss: 0.2050 - val_accuracy: 0.9812\n",
      "Epoch 28/50\n",
      "1100/1100 [==============================] - 6s 5ms/step - loss: 0.0033 - accuracy: 0.9991 - val_loss: 0.1962 - val_accuracy: 0.9826\n",
      "Epoch 29/50\n",
      "1100/1100 [==============================] - 7s 6ms/step - loss: 0.0029 - accuracy: 0.9993 - val_loss: 0.2372 - val_accuracy: 0.9804\n",
      "Epoch 30/50\n",
      "1100/1100 [==============================] - 6s 6ms/step - loss: 0.0030 - accuracy: 0.9993 - val_loss: 0.2104 - val_accuracy: 0.9816\n",
      "Epoch 31/50\n",
      "1100/1100 [==============================] - 6s 6ms/step - loss: 0.0022 - accuracy: 0.9994 - val_loss: 0.2130 - val_accuracy: 0.9834\n",
      "Epoch 32/50\n",
      "1100/1100 [==============================] - 7s 6ms/step - loss: 0.0019 - accuracy: 0.9995 - val_loss: 0.2328 - val_accuracy: 0.9824\n",
      "Epoch 33/50\n",
      "1100/1100 [==============================] - 6s 6ms/step - loss: 0.0025 - accuracy: 0.9994 - val_loss: 0.2297 - val_accuracy: 0.9822\n",
      "Epoch 34/50\n",
      "1100/1100 [==============================] - 6s 6ms/step - loss: 0.0018 - accuracy: 0.9995 - val_loss: 0.2444 - val_accuracy: 0.9824\n",
      "Epoch 35/50\n",
      "1100/1100 [==============================] - 6s 6ms/step - loss: 0.0034 - accuracy: 0.9993 - val_loss: 0.2571 - val_accuracy: 0.9820\n",
      "Epoch 36/50\n",
      "1100/1100 [==============================] - 6s 5ms/step - loss: 0.0025 - accuracy: 0.9994 - val_loss: 0.2341 - val_accuracy: 0.9830\n",
      "Epoch 37/50\n",
      "1100/1100 [==============================] - 6s 5ms/step - loss: 0.0013 - accuracy: 0.9997 - val_loss: 0.2551 - val_accuracy: 0.9830\n",
      "Epoch 38/50\n",
      "1100/1100 [==============================] - 6s 5ms/step - loss: 0.0015 - accuracy: 0.9995 - val_loss: 0.2439 - val_accuracy: 0.9822\n",
      "Epoch 39/50\n",
      "1100/1100 [==============================] - 6s 6ms/step - loss: 0.0020 - accuracy: 0.9995 - val_loss: 0.2404 - val_accuracy: 0.9820\n",
      "Epoch 40/50\n",
      "1100/1100 [==============================] - 6s 6ms/step - loss: 0.0018 - accuracy: 0.9995 - val_loss: 0.2636 - val_accuracy: 0.9816\n",
      "Epoch 41/50\n",
      "1100/1100 [==============================] - 7s 6ms/step - loss: 0.0018 - accuracy: 0.9997 - val_loss: 0.2771 - val_accuracy: 0.9806\n",
      "Epoch 42/50\n",
      "1100/1100 [==============================] - 6s 6ms/step - loss: 0.0015 - accuracy: 0.9997 - val_loss: 0.2556 - val_accuracy: 0.9828\n",
      "Epoch 43/50\n",
      "1100/1100 [==============================] - 7s 6ms/step - loss: 0.0015 - accuracy: 0.9998 - val_loss: 0.2730 - val_accuracy: 0.9828\n",
      "Epoch 44/50\n",
      "1100/1100 [==============================] - 7s 6ms/step - loss: 0.0024 - accuracy: 0.9995 - val_loss: 0.2756 - val_accuracy: 0.9804\n",
      "Epoch 45/50\n",
      "1100/1100 [==============================] - 7s 6ms/step - loss: 0.0031 - accuracy: 0.9995 - val_loss: 0.2849 - val_accuracy: 0.9812\n",
      "Epoch 46/50\n",
      "1100/1100 [==============================] - 7s 6ms/step - loss: 0.0018 - accuracy: 0.9996 - val_loss: 0.3040 - val_accuracy: 0.9822\n",
      "Epoch 47/50\n",
      "1100/1100 [==============================] - 7s 6ms/step - loss: 0.0016 - accuracy: 0.9997 - val_loss: 0.2888 - val_accuracy: 0.9822\n",
      "Epoch 48/50\n",
      "1100/1100 [==============================] - 6s 6ms/step - loss: 0.0014 - accuracy: 0.9996 - val_loss: 0.3022 - val_accuracy: 0.9816\n",
      "Epoch 49/50\n",
      "1100/1100 [==============================] - 6s 6ms/step - loss: 6.9218e-04 - accuracy: 0.9998 - val_loss: 0.2894 - val_accuracy: 0.9822\n",
      "Epoch 50/50\n",
      "1100/1100 [==============================] - 7s 6ms/step - loss: 0.0023 - accuracy: 0.9995 - val_loss: 0.2830 - val_accuracy: 0.9830\n"
     ]
    }
   ],
   "source": [
    "history3 = model3.fit(X_train, y_train, batch_size=50, epochs=50,\n",
    "                    validation_data=(X_valid, y_valid))"
   ]
  },
  {
   "cell_type": "markdown",
   "metadata": {},
   "source": [
    "si on augmente  batch size  le nbre d étapes dans chaque epochs diminue telle que on a remarqué que pour batch siz=30 on a 1717 steps et ensuite on augmente batch size=50 on obtient 1100 steps, si on change le nbre d'epochs le nbre de steps dans chaque iteration reste le meme ( 1100 dans le batch size=50)"
   ]
  },
  {
   "cell_type": "markdown",
   "metadata": {},
   "source": [
    "### training model4 (avec des couches cachées supp)"
   ]
  },
  {
   "cell_type": "code",
   "execution_count": 41,
   "metadata": {},
   "outputs": [
    {
     "name": "stdout",
     "output_type": "stream",
     "text": [
      "Epoch 1/50\n",
      "1100/1100 [==============================] - 7s 6ms/step - loss: 0.2198 - accuracy: 0.9344 - val_loss: 0.1005 - val_accuracy: 0.9696\n",
      "Epoch 2/50\n",
      "1100/1100 [==============================] - 7s 6ms/step - loss: 0.0886 - accuracy: 0.9723 - val_loss: 0.0924 - val_accuracy: 0.9742\n",
      "Epoch 3/50\n",
      "1100/1100 [==============================] - 6s 6ms/step - loss: 0.0622 - accuracy: 0.9809 - val_loss: 0.0757 - val_accuracy: 0.9774\n",
      "Epoch 4/50\n",
      "1100/1100 [==============================] - 6s 6ms/step - loss: 0.0457 - accuracy: 0.9857 - val_loss: 0.0876 - val_accuracy: 0.9780\n",
      "Epoch 5/50\n",
      "1100/1100 [==============================] - 6s 5ms/step - loss: 0.0382 - accuracy: 0.9876 - val_loss: 0.0838 - val_accuracy: 0.9776\n",
      "Epoch 6/50\n",
      "1100/1100 [==============================] - 6s 6ms/step - loss: 0.0314 - accuracy: 0.9899 - val_loss: 0.0754 - val_accuracy: 0.9818\n",
      "Epoch 7/50\n",
      "1100/1100 [==============================] - 7s 6ms/step - loss: 0.0262 - accuracy: 0.9916 - val_loss: 0.0866 - val_accuracy: 0.9782\n",
      "Epoch 8/50\n",
      "1100/1100 [==============================] - 7s 6ms/step - loss: 0.0224 - accuracy: 0.9927 - val_loss: 0.0837 - val_accuracy: 0.9806\n",
      "Epoch 9/50\n",
      "1100/1100 [==============================] - 7s 6ms/step - loss: 0.0205 - accuracy: 0.9929 - val_loss: 0.0962 - val_accuracy: 0.9776\n",
      "Epoch 10/50\n",
      "1100/1100 [==============================] - 6s 6ms/step - loss: 0.0191 - accuracy: 0.9939 - val_loss: 0.0837 - val_accuracy: 0.9804\n",
      "Epoch 11/50\n",
      "1100/1100 [==============================] - 7s 6ms/step - loss: 0.0160 - accuracy: 0.9948 - val_loss: 0.0767 - val_accuracy: 0.9814\n",
      "Epoch 12/50\n",
      "1100/1100 [==============================] - 7s 6ms/step - loss: 0.0160 - accuracy: 0.9948 - val_loss: 0.0897 - val_accuracy: 0.9822\n",
      "Epoch 13/50\n",
      "1100/1100 [==============================] - 7s 6ms/step - loss: 0.0144 - accuracy: 0.9955 - val_loss: 0.1183 - val_accuracy: 0.9750\n",
      "Epoch 14/50\n",
      "1100/1100 [==============================] - 6s 6ms/step - loss: 0.0145 - accuracy: 0.9953 - val_loss: 0.1014 - val_accuracy: 0.9766\n",
      "Epoch 15/50\n",
      "1100/1100 [==============================] - 7s 6ms/step - loss: 0.0147 - accuracy: 0.9957 - val_loss: 0.1007 - val_accuracy: 0.9792\n",
      "Epoch 16/50\n",
      "1100/1100 [==============================] - 7s 6ms/step - loss: 0.0125 - accuracy: 0.9963 - val_loss: 0.1211 - val_accuracy: 0.9786\n",
      "Epoch 17/50\n",
      "1100/1100 [==============================] - 6s 6ms/step - loss: 0.0086 - accuracy: 0.9977 - val_loss: 0.1422 - val_accuracy: 0.9762\n",
      "Epoch 18/50\n",
      "1100/1100 [==============================] - 7s 6ms/step - loss: 0.0140 - accuracy: 0.9957 - val_loss: 0.1028 - val_accuracy: 0.9798\n",
      "Epoch 19/50\n",
      "1100/1100 [==============================] - 7s 6ms/step - loss: 0.0120 - accuracy: 0.9963 - val_loss: 0.1070 - val_accuracy: 0.9804\n",
      "Epoch 20/50\n",
      "1100/1100 [==============================] - 7s 6ms/step - loss: 0.0087 - accuracy: 0.9976 - val_loss: 0.1137 - val_accuracy: 0.9794\n",
      "Epoch 21/50\n",
      "1100/1100 [==============================] - 7s 6ms/step - loss: 0.0091 - accuracy: 0.9975 - val_loss: 0.1103 - val_accuracy: 0.9798\n",
      "Epoch 22/50\n",
      "1100/1100 [==============================] - 6s 6ms/step - loss: 0.0097 - accuracy: 0.9974 - val_loss: 0.1157 - val_accuracy: 0.9818\n",
      "Epoch 23/50\n",
      "1100/1100 [==============================] - 6s 6ms/step - loss: 0.0095 - accuracy: 0.9973 - val_loss: 0.1263 - val_accuracy: 0.9816\n",
      "Epoch 24/50\n",
      "1100/1100 [==============================] - 7s 6ms/step - loss: 0.0096 - accuracy: 0.9973 - val_loss: 0.1243 - val_accuracy: 0.9802\n",
      "Epoch 25/50\n",
      "1100/1100 [==============================] - 7s 6ms/step - loss: 0.0084 - accuracy: 0.9977 - val_loss: 0.1146 - val_accuracy: 0.9808\n",
      "Epoch 26/50\n",
      "1100/1100 [==============================] - 7s 6ms/step - loss: 0.0074 - accuracy: 0.9977 - val_loss: 0.1260 - val_accuracy: 0.9820\n",
      "Epoch 27/50\n",
      "1100/1100 [==============================] - 6s 6ms/step - loss: 0.0088 - accuracy: 0.9976 - val_loss: 0.1316 - val_accuracy: 0.9814\n",
      "Epoch 28/50\n",
      "1100/1100 [==============================] - 6s 5ms/step - loss: 0.0083 - accuracy: 0.9977 - val_loss: 0.1171 - val_accuracy: 0.9820\n",
      "Epoch 29/50\n",
      "1100/1100 [==============================] - 6s 6ms/step - loss: 0.0085 - accuracy: 0.9978 - val_loss: 0.1391 - val_accuracy: 0.9804\n",
      "Epoch 30/50\n",
      "1100/1100 [==============================] - 6s 5ms/step - loss: 0.0066 - accuracy: 0.9980 - val_loss: 0.1462 - val_accuracy: 0.9768\n",
      "Epoch 31/50\n",
      "1100/1100 [==============================] - 6s 6ms/step - loss: 0.0091 - accuracy: 0.9975 - val_loss: 0.1588 - val_accuracy: 0.9802\n",
      "Epoch 32/50\n",
      "1100/1100 [==============================] - 7s 7ms/step - loss: 0.0078 - accuracy: 0.9980 - val_loss: 0.1188 - val_accuracy: 0.9838\n",
      "Epoch 33/50\n",
      "1100/1100 [==============================] - 7s 6ms/step - loss: 0.0049 - accuracy: 0.9987 - val_loss: 0.1209 - val_accuracy: 0.9816\n",
      "Epoch 34/50\n",
      "1100/1100 [==============================] - 7s 6ms/step - loss: 0.0099 - accuracy: 0.9972 - val_loss: 0.1791 - val_accuracy: 0.9752\n",
      "Epoch 35/50\n",
      "1100/1100 [==============================] - 6s 6ms/step - loss: 0.0065 - accuracy: 0.9984 - val_loss: 0.1330 - val_accuracy: 0.9830\n",
      "Epoch 36/50\n",
      "1100/1100 [==============================] - 7s 6ms/step - loss: 0.0071 - accuracy: 0.9981 - val_loss: 0.1293 - val_accuracy: 0.9834\n",
      "Epoch 37/50\n",
      "1100/1100 [==============================] - 7s 7ms/step - loss: 0.0075 - accuracy: 0.9982 - val_loss: 0.1443 - val_accuracy: 0.9810\n",
      "Epoch 38/50\n",
      "1100/1100 [==============================] - 7s 6ms/step - loss: 0.0083 - accuracy: 0.9979 - val_loss: 0.1412 - val_accuracy: 0.9816\n",
      "Epoch 39/50\n",
      "1100/1100 [==============================] - 7s 6ms/step - loss: 0.0049 - accuracy: 0.9989 - val_loss: 0.1475 - val_accuracy: 0.9834\n",
      "Epoch 40/50\n",
      "1100/1100 [==============================] - 6s 6ms/step - loss: 0.0076 - accuracy: 0.9981 - val_loss: 0.1681 - val_accuracy: 0.9804\n",
      "Epoch 41/50\n",
      "1100/1100 [==============================] - 6s 6ms/step - loss: 0.0076 - accuracy: 0.9983 - val_loss: 0.1186 - val_accuracy: 0.9800\n",
      "Epoch 42/50\n",
      "1100/1100 [==============================] - 6s 6ms/step - loss: 0.0031 - accuracy: 0.9991 - val_loss: 0.1882 - val_accuracy: 0.9790\n",
      "Epoch 43/50\n",
      "1100/1100 [==============================] - 6s 6ms/step - loss: 0.0074 - accuracy: 0.9979 - val_loss: 0.1580 - val_accuracy: 0.9834\n",
      "Epoch 44/50\n",
      "1100/1100 [==============================] - 6s 6ms/step - loss: 0.0070 - accuracy: 0.9983 - val_loss: 0.1617 - val_accuracy: 0.9814\n",
      "Epoch 45/50\n",
      "1100/1100 [==============================] - 7s 6ms/step - loss: 0.0046 - accuracy: 0.9986 - val_loss: 0.1623 - val_accuracy: 0.9808\n",
      "Epoch 46/50\n",
      "1100/1100 [==============================] - 7s 6ms/step - loss: 0.0068 - accuracy: 0.9982 - val_loss: 0.1495 - val_accuracy: 0.9820\n",
      "Epoch 47/50\n",
      "1100/1100 [==============================] - 7s 6ms/step - loss: 0.0032 - accuracy: 0.9991 - val_loss: 0.2010 - val_accuracy: 0.9748\n",
      "Epoch 48/50\n",
      "1100/1100 [==============================] - 7s 6ms/step - loss: 0.0067 - accuracy: 0.9982 - val_loss: 0.1636 - val_accuracy: 0.9806\n",
      "Epoch 49/50\n",
      "1100/1100 [==============================] - 6s 6ms/step - loss: 0.0047 - accuracy: 0.9992 - val_loss: 0.1461 - val_accuracy: 0.9812\n",
      "Epoch 50/50\n",
      "1100/1100 [==============================] - 6s 6ms/step - loss: 0.0095 - accuracy: 0.9977 - val_loss: 0.1875 - val_accuracy: 0.9804\n"
     ]
    }
   ],
   "source": [
    "history4 = model4.fit(X_train, y_train, batch_size=50, epochs=50,\n",
    "                    validation_data=(X_valid, y_valid))"
   ]
  },
  {
   "cell_type": "code",
   "execution_count": 42,
   "metadata": {},
   "outputs": [
    {
     "data": {
      "text/plain": [
       "{'verbose': 1, 'epochs': 50, 'steps': 1100}"
      ]
     },
     "execution_count": 42,
     "metadata": {},
     "output_type": "execute_result"
    }
   ],
   "source": [
    "history1.params"
   ]
  },
  {
   "cell_type": "code",
   "execution_count": 43,
   "metadata": {},
   "outputs": [
    {
     "data": {
      "text/plain": [
       "{'verbose': 1, 'epochs': 50, 'steps': 1100}"
      ]
     },
     "execution_count": 43,
     "metadata": {},
     "output_type": "execute_result"
    }
   ],
   "source": [
    "history2.params"
   ]
  },
  {
   "cell_type": "code",
   "execution_count": 44,
   "metadata": {},
   "outputs": [
    {
     "data": {
      "text/plain": [
       "{'verbose': 1, 'epochs': 50, 'steps': 1100}"
      ]
     },
     "execution_count": 44,
     "metadata": {},
     "output_type": "execute_result"
    }
   ],
   "source": [
    "history3.params"
   ]
  },
  {
   "cell_type": "code",
   "execution_count": 45,
   "metadata": {},
   "outputs": [
    {
     "name": "stdout",
     "output_type": "stream",
     "text": [
      "[0, 1, 2, 3, 4, 5, 6, 7, 8, 9, 10, 11, 12, 13, 14, 15, 16, 17, 18, 19, 20, 21, 22, 23, 24, 25, 26, 27, 28, 29, 30, 31, 32, 33, 34, 35, 36, 37, 38, 39, 40, 41, 42, 43, 44, 45, 46, 47, 48, 49]\n"
     ]
    }
   ],
   "source": [
    "print(history1.epoch)"
   ]
  },
  {
   "cell_type": "code",
   "execution_count": 46,
   "metadata": {},
   "outputs": [
    {
     "name": "stdout",
     "output_type": "stream",
     "text": [
      "[0, 1, 2, 3, 4, 5, 6, 7, 8, 9, 10, 11, 12, 13, 14, 15, 16, 17, 18, 19, 20, 21, 22, 23, 24, 25, 26, 27, 28, 29, 30, 31, 32, 33, 34, 35, 36, 37, 38, 39, 40, 41, 42, 43, 44, 45, 46, 47, 48, 49]\n"
     ]
    }
   ],
   "source": [
    "print(history2.epoch)"
   ]
  },
  {
   "cell_type": "code",
   "execution_count": 47,
   "metadata": {},
   "outputs": [
    {
     "name": "stdout",
     "output_type": "stream",
     "text": [
      "[0, 1, 2, 3, 4, 5, 6, 7, 8, 9, 10, 11, 12, 13, 14, 15, 16, 17, 18, 19, 20, 21, 22, 23, 24, 25, 26, 27, 28, 29, 30, 31, 32, 33, 34, 35, 36, 37, 38, 39, 40, 41, 42, 43, 44, 45, 46, 47, 48, 49]\n"
     ]
    }
   ],
   "source": [
    "print(history3.epoch)"
   ]
  },
  {
   "cell_type": "code",
   "execution_count": 48,
   "metadata": {},
   "outputs": [
    {
     "data": {
      "text/plain": [
       "dict_keys(['loss', 'accuracy', 'val_loss', 'val_accuracy'])"
      ]
     },
     "execution_count": 48,
     "metadata": {},
     "output_type": "execute_result"
    }
   ],
   "source": [
    "history1.history.keys()"
   ]
  },
  {
   "cell_type": "code",
   "execution_count": 49,
   "metadata": {},
   "outputs": [
    {
     "data": {
      "text/plain": [
       "dict_keys(['loss', 'accuracy', 'val_loss', 'val_accuracy'])"
      ]
     },
     "execution_count": 49,
     "metadata": {},
     "output_type": "execute_result"
    }
   ],
   "source": [
    "history2.history.keys()"
   ]
  },
  {
   "cell_type": "code",
   "execution_count": 50,
   "metadata": {},
   "outputs": [
    {
     "data": {
      "text/plain": [
       "dict_keys(['loss', 'accuracy', 'val_loss', 'val_accuracy'])"
      ]
     },
     "execution_count": 50,
     "metadata": {},
     "output_type": "execute_result"
    }
   ],
   "source": [
    "history3.history.keys()"
   ]
  },
  {
   "cell_type": "code",
   "execution_count": 51,
   "metadata": {},
   "outputs": [
    {
     "data": {
      "text/plain": [
       "dict_keys(['loss', 'accuracy', 'val_loss', 'val_accuracy'])"
      ]
     },
     "execution_count": 51,
     "metadata": {},
     "output_type": "execute_result"
    }
   ],
   "source": [
    "history4.history.keys()"
   ]
  },
  {
   "cell_type": "markdown",
   "metadata": {},
   "source": [
    "## Plot learning Curves"
   ]
  },
  {
   "cell_type": "markdown",
   "metadata": {},
   "source": [
    "### optimizer ADAM"
   ]
  },
  {
   "cell_type": "code",
   "execution_count": 52,
   "metadata": {
    "scrolled": true
   },
   "outputs": [
    {
     "data": {
      "image/png": "[encoded data removed]",
      "text/plain": [
       "<Figure size 576x360 with 1 Axes>"
      ]
     },
     "metadata": {
      "needs_background": "light"
     },
     "output_type": "display_data"
    }
   ],
   "source": [
    "import pandas as pd\n",
    "\n",
    "pd.DataFrame(history1.history).plot(figsize=(8, 5))\n",
    "plt.grid(True)\n",
    "plt.gca().set_ylim(0, 1)\n",
    "plt.show()"
   ]
  },
  {
   "cell_type": "markdown",
   "metadata": {},
   "source": [
    "### optimizer SGD"
   ]
  },
  {
   "cell_type": "code",
   "execution_count": 53,
   "metadata": {},
   "outputs": [
    {
     "data": {
      "image/png": "[encoded data removed]",
      "text/plain": [
       "<Figure size 576x360 with 1 Axes>"
      ]
     },
     "metadata": {
      "needs_background": "light"
     },
     "output_type": "display_data"
    }
   ],
   "source": [
    "pd.DataFrame(history2.history).plot(figsize=(8, 5))\n",
    "plt.grid(True)\n",
    "plt.gca().set_ylim(0, 1)\n",
    "plt.show()"
   ]
  },
  {
   "cell_type": "markdown",
   "metadata": {},
   "source": [
    "###  optimizer RMSpop"
   ]
  },
  {
   "cell_type": "code",
   "execution_count": 54,
   "metadata": {},
   "outputs": [
    {
     "data": {
      "image/png": "[encoded data removed]",
      "text/plain": [
       "<Figure size 576x360 with 1 Axes>"
      ]
     },
     "metadata": {
      "needs_background": "light"
     },
     "output_type": "display_data"
    }
   ],
   "source": [
    "pd.DataFrame(history3.history).plot(figsize=(8, 5))\n",
    "plt.grid(True)\n",
    "plt.gca().set_ylim(0, 1)\n",
    "plt.show()"
   ]
  },
  {
   "cell_type": "markdown",
   "metadata": {},
   "source": [
    "## Model 4 : plus de couches"
   ]
  },
  {
   "cell_type": "code",
   "execution_count": 55,
   "metadata": {},
   "outputs": [
    {
     "data": {
      "image/png": "[encoded data removed]",
      "text/plain": [
       "<Figure size 576x360 with 1 Axes>"
      ]
     },
     "metadata": {
      "needs_background": "light"
     },
     "output_type": "display_data"
    }
   ],
   "source": [
    "pd.DataFrame(history4.history).plot(figsize=(8, 5))\n",
    "plt.grid(True)\n",
    "plt.gca().set_ylim(0, 1)\n",
    "plt.show()"
   ]
  },
  {
   "cell_type": "markdown",
   "metadata": {},
   "source": [
    "### l'application sur les données de test"
   ]
  },
  {
   "cell_type": "markdown",
   "metadata": {},
   "source": [
    "#### model1"
   ]
  },
  {
   "cell_type": "code",
   "execution_count": 56,
   "metadata": {},
   "outputs": [
    {
     "name": "stdout",
     "output_type": "stream",
     "text": [
      "313/313 [==============================] - 1s 3ms/step - loss: 0.1639 - accuracy: 0.9806\n"
     ]
    }
   ],
   "source": [
    "predict_test1=model1.evaluate(X_test, y_test)"
   ]
  },
  {
   "cell_type": "markdown",
   "metadata": {},
   "source": [
    "#### model2"
   ]
  },
  {
   "cell_type": "code",
   "execution_count": 57,
   "metadata": {},
   "outputs": [
    {
     "name": "stdout",
     "output_type": "stream",
     "text": [
      "313/313 [==============================] - 1s 3ms/step - loss: 0.0717 - accuracy: 0.9788\n"
     ]
    }
   ],
   "source": [
    "predict_test2=model2.evaluate(X_test, y_test)"
   ]
  },
  {
   "cell_type": "markdown",
   "metadata": {},
   "source": [
    "#### model3"
   ]
  },
  {
   "cell_type": "code",
   "execution_count": 58,
   "metadata": {},
   "outputs": [
    {
     "name": "stdout",
     "output_type": "stream",
     "text": [
      "313/313 [==============================] - 1s 3ms/step - loss: 0.3229 - accuracy: 0.9808\n"
     ]
    }
   ],
   "source": [
    "predict_test3=model3.evaluate(X_test, y_test)"
   ]
  },
  {
   "cell_type": "markdown",
   "metadata": {},
   "source": [
    "### model 4"
   ]
  },
  {
   "cell_type": "code",
   "execution_count": 59,
   "metadata": {},
   "outputs": [
    {
     "name": "stdout",
     "output_type": "stream",
     "text": [
      "313/313 [==============================] - 1s 4ms/step - loss: 0.2099 - accuracy: 0.9779\n"
     ]
    }
   ],
   "source": [
    "predict_test4=model4.evaluate(X_test, y_test)"
   ]
  },
  {
   "cell_type": "code",
   "execution_count": 60,
   "metadata": {},
   "outputs": [],
   "source": [
    "X_new = X_test[:3]\n"
   ]
  },
  {
   "cell_type": "code",
   "execution_count": 61,
   "metadata": {},
   "outputs": [
    {
     "data": {
      "text/plain": [
       "array([[0., 0., 0., 0., 0., 0., 0., 1., 0., 0.],\n",
       "       [0., 0., 1., 0., 0., 0., 0., 0., 0., 0.],\n",
       "       [0., 1., 0., 0., 0., 0., 0., 0., 0., 0.]], dtype=float32)"
      ]
     },
     "execution_count": 61,
     "metadata": {},
     "output_type": "execute_result"
    }
   ],
   "source": [
    "y_proba = model1.predict(X_new)\n",
    "y_proba.round(2)"
   ]
  },
  {
   "cell_type": "code",
   "execution_count": 62,
   "metadata": {},
   "outputs": [
    {
     "data": {
      "text/plain": [
       "array([[0., 0., 0., 0., 0., 0., 0., 1., 0., 0.],\n",
       "       [0., 0., 1., 0., 0., 0., 0., 0., 0., 0.],\n",
       "       [0., 1., 0., 0., 0., 0., 0., 0., 0., 0.]], dtype=float32)"
      ]
     },
     "execution_count": 62,
     "metadata": {},
     "output_type": "execute_result"
    }
   ],
   "source": [
    "y_proba = model2.predict(X_new)\n",
    "y_proba.round(2)"
   ]
  },
  {
   "cell_type": "code",
   "execution_count": 63,
   "metadata": {},
   "outputs": [
    {
     "data": {
      "text/plain": [
       "array([[0., 0., 0., 0., 0., 0., 0., 1., 0., 0.],\n",
       "       [0., 0., 1., 0., 0., 0., 0., 0., 0., 0.],\n",
       "       [0., 1., 0., 0., 0., 0., 0., 0., 0., 0.]], dtype=float32)"
      ]
     },
     "execution_count": 63,
     "metadata": {},
     "output_type": "execute_result"
    }
   ],
   "source": [
    "y_proba = model3.predict(X_new)\n",
    "y_proba.round(2)"
   ]
  },
  {
   "cell_type": "code",
   "execution_count": 64,
   "metadata": {},
   "outputs": [
    {
     "data": {
      "text/plain": [
       "array([[0., 0., 0., 0., 0., 0., 0., 1., 0., 0.],\n",
       "       [0., 0., 1., 0., 0., 0., 0., 0., 0., 0.],\n",
       "       [0., 1., 0., 0., 0., 0., 0., 0., 0., 0.]], dtype=float32)"
      ]
     },
     "execution_count": 64,
     "metadata": {},
     "output_type": "execute_result"
    }
   ],
   "source": [
    "y_proba = model4.predict(X_new)\n",
    "y_proba.round(2)"
   ]
  },
  {
   "cell_type": "code",
   "execution_count": 65,
   "metadata": {},
   "outputs": [
    {
     "name": "stdout",
     "output_type": "stream",
     "text": [
      "WARNING:tensorflow:From <ipython-input-65-97d66773ad4e>:1: Sequential.predict_classes (from tensorflow.python.keras.engine.sequential) is deprecated and will be removed after 2021-01-01.\n",
      "Instructions for updating:\n",
      "Please use instead:* `np.argmax(model.predict(x), axis=-1)`,   if your model does multi-class classification   (e.g. if it uses a `softmax` last-layer activation).* `(model.predict(x) > 0.5).astype(\"int32\")`,   if your model does binary classification   (e.g. if it uses a `sigmoid` last-layer activation).\n"
     ]
    },
    {
     "data": {
      "text/plain": [
       "array([7, 2, 1], dtype=int64)"
      ]
     },
     "execution_count": 65,
     "metadata": {},
     "output_type": "execute_result"
    }
   ],
   "source": [
    "y_pred1 = model1.predict_classes(X_new)\n",
    "y_pred1"
   ]
  },
  {
   "cell_type": "code",
   "execution_count": 66,
   "metadata": {},
   "outputs": [
    {
     "data": {
      "text/plain": [
       "array([7, 2, 1], dtype=int64)"
      ]
     },
     "execution_count": 66,
     "metadata": {},
     "output_type": "execute_result"
    }
   ],
   "source": [
    "y_pred2 = model2.predict_classes(X_new)\n",
    "y_pred2"
   ]
  },
  {
   "cell_type": "code",
   "execution_count": 67,
   "metadata": {},
   "outputs": [
    {
     "data": {
      "text/plain": [
       "array([7, 2, 1], dtype=int64)"
      ]
     },
     "execution_count": 67,
     "metadata": {},
     "output_type": "execute_result"
    }
   ],
   "source": [
    "y_pred3 = model3.predict_classes(X_new)\n",
    "y_pred3"
   ]
  },
  {
   "cell_type": "code",
   "execution_count": 68,
   "metadata": {},
   "outputs": [
    {
     "data": {
      "text/plain": [
       "array([7, 2, 1], dtype=int64)"
      ]
     },
     "execution_count": 68,
     "metadata": {},
     "output_type": "execute_result"
    }
   ],
   "source": [
    "y_pred4 = model4.predict_classes(X_new)\n",
    "y_pred4"
   ]
  },
  {
   "cell_type": "code",
   "execution_count": 69,
   "metadata": {},
   "outputs": [
    {
     "data": {
      "text/plain": [
       "array(['Sept', 'deux', 'un'], dtype='<U6')"
      ]
     },
     "execution_count": 69,
     "metadata": {},
     "output_type": "execute_result"
    }
   ],
   "source": [
    "np.array(class_names)[y_pred1]"
   ]
  },
  {
   "cell_type": "code",
   "execution_count": 70,
   "metadata": {},
   "outputs": [
    {
     "data": {
      "text/plain": [
       "array(['Sept', 'deux', 'un'], dtype='<U6')"
      ]
     },
     "execution_count": 70,
     "metadata": {},
     "output_type": "execute_result"
    }
   ],
   "source": [
    "np.array(class_names)[y_pred2]"
   ]
  },
  {
   "cell_type": "code",
   "execution_count": 71,
   "metadata": {},
   "outputs": [
    {
     "data": {
      "text/plain": [
       "array(['Sept', 'deux', 'un'], dtype='<U6')"
      ]
     },
     "execution_count": 71,
     "metadata": {},
     "output_type": "execute_result"
    }
   ],
   "source": [
    "np.array(class_names)[y_pred3]"
   ]
  },
  {
   "cell_type": "code",
   "execution_count": 72,
   "metadata": {},
   "outputs": [
    {
     "data": {
      "text/plain": [
       "array(['Sept', 'deux', 'un'], dtype='<U6')"
      ]
     },
     "execution_count": 72,
     "metadata": {},
     "output_type": "execute_result"
    }
   ],
   "source": [
    "np.array(class_names)[y_pred4]"
   ]
  },
  {
   "cell_type": "code",
   "execution_count": 73,
   "metadata": {},
   "outputs": [
    {
     "data": {
      "text/plain": [
       "array([7, 2, 1], dtype=uint8)"
      ]
     },
     "execution_count": 73,
     "metadata": {},
     "output_type": "execute_result"
    }
   ],
   "source": [
    "\n",
    "y_new = y_test[:3]\n",
    "y_new"
   ]
  },
  {
   "cell_type": "code",
   "execution_count": 74,
   "metadata": {},
   "outputs": [
    {
     "data": {
      "image/png": "[encoded data removed]",
      "text/plain": [
       "<Figure size 518.4x172.8 with 3 Axes>"
      ]
     },
     "metadata": {
      "needs_background": "light"
     },
     "output_type": "display_data"
    }
   ],
   "source": [
    "plt.figure(figsize=(7.2, 2.4))\n",
    "for index, image in enumerate(X_new):\n",
    "    plt.subplot(1, 3, index + 1)\n",
    "    plt.imshow(image, cmap=\"binary\", interpolation=\"nearest\")\n",
    "    plt.axis('off')\n",
    "    plt.title(class_names[y_test[index]], fontsize=12)\n",
    "plt.subplots_adjust(wspace=0.2, hspace=0.5)\n",
    "plt.show()"
   ]
  },
  {
   "cell_type": "markdown",
   "metadata": {},
   "source": [
    "# Comparaison entre les 3 optimizers"
   ]
  },
  {
   "cell_type": "code",
   "execution_count": 75,
   "metadata": {},
   "outputs": [],
   "source": [
    "comp=[]\n",
    "comp.append(predict_test1[1])\n",
    "comp.append(predict_test2[1])\n",
    "comp.append(predict_test3[1])\n",
    "comp.append(predict_test4[1])"
   ]
  },
  {
   "cell_type": "code",
   "execution_count": 76,
   "metadata": {},
   "outputs": [
    {
     "data": {
      "text/plain": [
       "[0.9805999994277954,\n",
       " 0.9787999987602234,\n",
       " 0.9807999730110168,\n",
       " 0.9779000282287598]"
      ]
     },
     "execution_count": 76,
     "metadata": {},
     "output_type": "execute_result"
    }
   ],
   "source": [
    "comp"
   ]
  },
  {
   "cell_type": "markdown",
   "metadata": {},
   "source": [
    "on remarque que la performance  des optimizers depend au dataset et aussi on peut pas dire que l'ajout des couches dans notre réseaux améliore les résultats d'accuaracy car tjrs ca depend au dataset ."
   ]
  }
 ],
 "metadata": {
  "kernelspec": {
   "display_name": "Python 3",
   "language": "python",
   "name": "python3"
  },
  "language_info": {
   "codemirror_mode": {
    "name": "ipython",
    "version": 3
   },
   "file_extension": ".py",
   "mimetype": "text/x-python",
   "name": "python",
   "nbconvert_exporter": "python",
   "pygments_lexer": "ipython3",
   "version": "3.7.6"
  }
 },
 "nbformat": 4,
 "nbformat_minor": 4
}
