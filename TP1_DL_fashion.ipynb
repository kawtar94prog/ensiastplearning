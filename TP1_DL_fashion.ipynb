{
 "cells": [
  {
   "cell_type": "markdown",
   "metadata": {},
   "source": [
    "## Artificial Neural Networks with Keras"
   ]
  },
  {
   "cell_type": "markdown",
   "metadata": {},
   "source": [
    "\n",
    "First, let's import a few common modules, ensure MatplotLib plots figures inline and prepare a function to save the figures. We also check that Python 3.5 or later is installed (although Python 2.x may work, it is deprecated so we strongly recommend you use Python 3 instead), as well as Scikit-Learn ≥0.20 and TensorFlow ≥2.0."
   ]
  },
  {
   "cell_type": "code",
   "execution_count": 1,
   "metadata": {},
   "outputs": [],
   "source": [
    "# TensorFlow ≥2.0 is required\n",
    "import tensorflow as tf\n",
    "\n",
    "# Common imports\n",
    "import numpy as np\n",
    "import os\n",
    "\n",
    "# to make this notebook's output stable across runs\n",
    "np.random.seed(42)\n",
    "\n",
    "# To plot pretty figures\n",
    "%matplotlib inline\n",
    "import matplotlib as mpl\n",
    "import matplotlib.pyplot as plt\n",
    "mpl.rc('axes', labelsize=14)\n",
    "mpl.rc('xtick', labelsize=12)\n",
    "mpl.rc('ytick', labelsize=12)\n",
    "\n",
    "# Ignore useless warnings (see SciPy issue #5998)\n",
    "import warnings\n",
    "warnings.filterwarnings(action=\"ignore\", message=\"^internal gelsd\")"
   ]
  },
  {
   "cell_type": "markdown",
   "metadata": {},
   "source": [
    "## Building an Image Classifier"
   ]
  },
  {
   "cell_type": "markdown",
   "metadata": {},
   "source": [
    "First let's import TensorFlow and Keras"
   ]
  },
  {
   "cell_type": "code",
   "execution_count": 2,
   "metadata": {},
   "outputs": [],
   "source": [
    "from tensorflow import keras"
   ]
  },
  {
   "cell_type": "code",
   "execution_count": 3,
   "metadata": {},
   "outputs": [
    {
     "data": {
      "text/plain": [
       "'2.3.1'"
      ]
     },
     "execution_count": 3,
     "metadata": {},
     "output_type": "execute_result"
    }
   ],
   "source": [
    "tf.__version__"
   ]
  },
  {
   "cell_type": "markdown",
   "metadata": {},
   "source": [
    "Let's start by loading the fashion MNIST dataset. Keras has a number of functions to load popular datasets in keras.datasets. The dataset is already split for you between a training set and a test set, but it can be useful to split the training set further to have a validation set:"
   ]
  },
  {
   "cell_type": "code",
   "execution_count": 4,
   "metadata": {},
   "outputs": [],
   "source": [
    "fashion_mnist = keras.datasets.fashion_mnist\n",
    "(X_train_full, y_train_full), (X_test, y_test) = fashion_mnist.load_data()"
   ]
  },
  {
   "cell_type": "markdown",
   "metadata": {},
   "source": [
    "The training set contains 60,000 grayscale images, each 28x28 pixels:"
   ]
  },
  {
   "cell_type": "code",
   "execution_count": 5,
   "metadata": {},
   "outputs": [
    {
     "data": {
      "text/plain": [
       "(60000, 28, 28)"
      ]
     },
     "execution_count": 5,
     "metadata": {},
     "output_type": "execute_result"
    }
   ],
   "source": [
    "X_train_full.shape"
   ]
  },
  {
   "cell_type": "markdown",
   "metadata": {},
   "source": [
    "Each pixel intensity is represented as a byte (0 to 255):"
   ]
  },
  {
   "cell_type": "code",
   "execution_count": 6,
   "metadata": {},
   "outputs": [
    {
     "data": {
      "text/plain": [
       "dtype('uint8')"
      ]
     },
     "execution_count": 6,
     "metadata": {},
     "output_type": "execute_result"
    }
   ],
   "source": [
    "X_train_full.dtype"
   ]
  },
  {
   "cell_type": "markdown",
   "metadata": {},
   "source": [
    "\n",
    "Let's split the full training set into a validation set and a (smaller) training set. We also scale the pixel intensities down to the 0-1 range and convert them to floats, by dividing by 255."
   ]
  },
  {
   "cell_type": "code",
   "execution_count": 7,
   "metadata": {},
   "outputs": [],
   "source": [
    "X_valid, X_train = X_train_full[:5000] / 255., X_train_full[5000:] / 255.\n",
    "y_valid, y_train = y_train_full[:5000], y_train_full[5000:]\n",
    "X_test = X_test / 255."
   ]
  },
  {
   "cell_type": "markdown",
   "metadata": {},
   "source": [
    "You can plot an image using Matplotlib's imshow() function, with a 'binary' color map:"
   ]
  },
  {
   "cell_type": "code",
   "execution_count": 8,
   "metadata": {},
   "outputs": [
    {
     "data": {
      "image/png": "[encoded data removed]",
      "text/plain": [
       "<Figure size 432x288 with 1 Axes>"
      ]
     },
     "metadata": {
      "needs_background": "light"
     },
     "output_type": "display_data"
    }
   ],
   "source": [
    "plt.imshow(X_train[0], cmap=\"binary\")\n",
    "plt.axis('off')\n",
    "plt.show()"
   ]
  },
  {
   "cell_type": "markdown",
   "metadata": {},
   "source": [
    "The labels are the class IDs (represented as uint8), from 0 to 9:"
   ]
  },
  {
   "cell_type": "code",
   "execution_count": 9,
   "metadata": {},
   "outputs": [
    {
     "data": {
      "text/plain": [
       "array([4, 0, 7, ..., 3, 0, 5], dtype=uint8)"
      ]
     },
     "execution_count": 9,
     "metadata": {},
     "output_type": "execute_result"
    }
   ],
   "source": [
    "y_train\n"
   ]
  },
  {
   "cell_type": "markdown",
   "metadata": {},
   "source": [
    "Here are the corresponding class names:"
   ]
  },
  {
   "cell_type": "code",
   "execution_count": 10,
   "metadata": {},
   "outputs": [],
   "source": [
    "class_names = [\"T-shirt/top\", \"Trouser\", \"Pullover\", \"Dress\", \"Coat\",\n",
    "               \"Sandal\", \"Shirt\", \"Sneaker\", \"Bag\", \"Ankle boot\"]"
   ]
  },
  {
   "cell_type": "markdown",
   "metadata": {},
   "source": [
    "\n",
    "So the first image in the training set is a coat:"
   ]
  },
  {
   "cell_type": "code",
   "execution_count": 11,
   "metadata": {},
   "outputs": [
    {
     "data": {
      "text/plain": [
       "'Coat'"
      ]
     },
     "execution_count": 11,
     "metadata": {},
     "output_type": "execute_result"
    }
   ],
   "source": [
    "class_names[y_train[0]]"
   ]
  },
  {
   "cell_type": "markdown",
   "metadata": {},
   "source": [
    "\n",
    "The validation set contains 5,000 images, and the test set contains 10,000 images:"
   ]
  },
  {
   "cell_type": "code",
   "execution_count": 12,
   "metadata": {},
   "outputs": [
    {
     "data": {
      "text/plain": [
       "(5000, 28, 28)"
      ]
     },
     "execution_count": 12,
     "metadata": {},
     "output_type": "execute_result"
    }
   ],
   "source": [
    "X_valid.shape"
   ]
  },
  {
   "cell_type": "code",
   "execution_count": 13,
   "metadata": {},
   "outputs": [
    {
     "data": {
      "text/plain": [
       "(10000, 28, 28)"
      ]
     },
     "execution_count": 13,
     "metadata": {},
     "output_type": "execute_result"
    }
   ],
   "source": [
    "X_test.shape"
   ]
  },
  {
   "cell_type": "markdown",
   "metadata": {},
   "source": [
    "Let's take a look at a sample of the images in the dataset:"
   ]
  },
  {
   "cell_type": "code",
   "execution_count": 14,
   "metadata": {},
   "outputs": [
    {
     "data": {
      "image/png": "[encoded data removed]",
      "text/plain": [
       "<Figure size 864x345.6 with 40 Axes>"
      ]
     },
     "metadata": {
      "needs_background": "light"
     },
     "output_type": "display_data"
    }
   ],
   "source": [
    "n_rows = 4\n",
    "n_cols = 10\n",
    "plt.figure(figsize=(n_cols * 1.2, n_rows * 1.2))\n",
    "for row in range(n_rows):\n",
    "    for col in range(n_cols):\n",
    "        index = n_cols * row + col\n",
    "        plt.subplot(n_rows, n_cols, index + 1)\n",
    "        plt.imshow(X_train[index], cmap=\"binary\", interpolation=\"nearest\")\n",
    "        plt.axis('off')\n",
    "        plt.title(class_names[y_train[index]], fontsize=12)\n",
    "plt.subplots_adjust(wspace=0.2, hspace=0.5)\n",
    "plt.show()"
   ]
  },
  {
   "cell_type": "markdown",
   "metadata": {},
   "source": [
    "## Construct a Model"
   ]
  },
  {
   "cell_type": "markdown",
   "metadata": {},
   "source": [
    "### model 1 (optimizer ADAM)"
   ]
  },
  {
   "cell_type": "code",
   "execution_count": 15,
   "metadata": {},
   "outputs": [],
   "source": [
    "model1 = keras.models.Sequential()\n",
    "model1.add(keras.layers.Flatten(input_shape=[28, 28]))\n",
    "model1.add(keras.layers.Dense(300, activation=\"relu\"))\n",
    "model1.add(keras.layers.Dense(100, activation=\"relu\"))\n",
    "model1.add(keras.layers.Dense(10, activation=\"softmax\"))"
   ]
  },
  {
   "cell_type": "markdown",
   "metadata": {},
   "source": [
    "### model 2 (optimizer stochastic gradient descent)"
   ]
  },
  {
   "cell_type": "code",
   "execution_count": 16,
   "metadata": {},
   "outputs": [],
   "source": [
    "model2 = keras.models.Sequential()\n",
    "model2.add(keras.layers.Flatten(input_shape=[28, 28]))\n",
    "model2.add(keras.layers.Dense(300, activation=\"relu\"))\n",
    "model2.add(keras.layers.Dense(100, activation=\"relu\"))\n",
    "model2.add(keras.layers.Dense(10, activation=\"softmax\"))"
   ]
  },
  {
   "cell_type": "markdown",
   "metadata": {},
   "source": [
    "###  model 3 (optimizer RMSpop)"
   ]
  },
  {
   "cell_type": "code",
   "execution_count": 17,
   "metadata": {},
   "outputs": [],
   "source": [
    "model3= keras.models.Sequential()\n",
    "model3.add(keras.layers.Flatten(input_shape=[28, 28]))\n",
    "model3.add(keras.layers.Dense(300, activation=\"relu\"))\n",
    "model3.add(keras.layers.Dense(100, activation=\"relu\"))\n",
    "model3.add(keras.layers.Dense(10, activation=\"softmax\"))"
   ]
  },
  {
   "cell_type": "markdown",
   "metadata": {},
   "source": [
    "## Model 4 avec plus de couches (layers) "
   ]
  },
  {
   "cell_type": "code",
   "execution_count": 18,
   "metadata": {},
   "outputs": [],
   "source": [
    "model4 = keras.models.Sequential()\n",
    "model4.add(keras.layers.Flatten(input_shape=[28, 28]))\n",
    "model4.add(keras.layers.Dense(300, activation=\"relu\"))\n",
    "model4.add(keras.layers.Dense(300, activation=\"relu\"))\n",
    "model4.add(keras.layers.Dense(100, activation=\"relu\"))\n",
    "model4.add(keras.layers.Dense(10, activation=\"softmax\"))"
   ]
  },
  {
   "cell_type": "code",
   "execution_count": 19,
   "metadata": {},
   "outputs": [],
   "source": [
    "#keras.backend.clear_session()\n",
    "np.random.seed(42)"
   ]
  },
  {
   "cell_type": "markdown",
   "metadata": {},
   "source": [
    "or using the folowing method"
   ]
  },
  {
   "cell_type": "code",
   "execution_count": 20,
   "metadata": {},
   "outputs": [],
   "source": [
    "#model = keras.models.Sequential([\n",
    "#    keras.layers.Flatten(input_shape=[28, 28]),\n",
    "#    keras.layers.Dense(300, activation=\"relu\"),\n",
    "#    keras.layers.Dense(100, activation=\"relu\"),\n",
    " #   keras.layers.Dense(10, activation=\"softmax\")\n",
    "#])"
   ]
  },
  {
   "cell_type": "code",
   "execution_count": 21,
   "metadata": {},
   "outputs": [
    {
     "data": {
      "text/plain": [
       "[<tensorflow.python.keras.layers.core.Flatten at 0x1c2d2639d08>,\n",
       " <tensorflow.python.keras.layers.core.Dense at 0x1c2d2639fc8>,\n",
       " <tensorflow.python.keras.layers.core.Dense at 0x1c2ed425a08>,\n",
       " <tensorflow.python.keras.layers.core.Dense at 0x1c2ed4280c8>]"
      ]
     },
     "execution_count": 21,
     "metadata": {},
     "output_type": "execute_result"
    }
   ],
   "source": [
    "model1.layers\n",
    "model2.layers\n",
    "model3.layers"
   ]
  },
  {
   "cell_type": "code",
   "execution_count": 22,
   "metadata": {},
   "outputs": [
    {
     "name": "stdout",
     "output_type": "stream",
     "text": [
      "Model: \"sequential\"\n",
      "_________________________________________________________________\n",
      "Layer (type)                 Output Shape              Param #   \n",
      "=================================================================\n",
      "flatten (Flatten)            (None, 784)               0         \n",
      "_________________________________________________________________\n",
      "dense (Dense)                (None, 300)               235500    \n",
      "_________________________________________________________________\n",
      "dense_1 (Dense)              (None, 100)               30100     \n",
      "_________________________________________________________________\n",
      "dense_2 (Dense)              (None, 10)                1010      \n",
      "=================================================================\n",
      "Total params: 266,610\n",
      "Trainable params: 266,610\n",
      "Non-trainable params: 0\n",
      "_________________________________________________________________\n",
      "Model: \"sequential_1\"\n",
      "_________________________________________________________________\n",
      "Layer (type)                 Output Shape              Param #   \n",
      "=================================================================\n",
      "flatten_1 (Flatten)          (None, 784)               0         \n",
      "_________________________________________________________________\n",
      "dense_3 (Dense)              (None, 300)               235500    \n",
      "_________________________________________________________________\n",
      "dense_4 (Dense)              (None, 100)               30100     \n",
      "_________________________________________________________________\n",
      "dense_5 (Dense)              (None, 10)                1010      \n",
      "=================================================================\n",
      "Total params: 266,610\n",
      "Trainable params: 266,610\n",
      "Non-trainable params: 0\n",
      "_________________________________________________________________\n",
      "Model: \"sequential_2\"\n",
      "_________________________________________________________________\n",
      "Layer (type)                 Output Shape              Param #   \n",
      "=================================================================\n",
      "flatten_2 (Flatten)          (None, 784)               0         \n",
      "_________________________________________________________________\n",
      "dense_6 (Dense)              (None, 300)               235500    \n",
      "_________________________________________________________________\n",
      "dense_7 (Dense)              (None, 100)               30100     \n",
      "_________________________________________________________________\n",
      "dense_8 (Dense)              (None, 10)                1010      \n",
      "=================================================================\n",
      "Total params: 266,610\n",
      "Trainable params: 266,610\n",
      "Non-trainable params: 0\n",
      "_________________________________________________________________\n"
     ]
    }
   ],
   "source": [
    "model1.summary()\n",
    "model2.summary()\n",
    "model3.summary()"
   ]
  },
  {
   "cell_type": "code",
   "execution_count": 23,
   "metadata": {},
   "outputs": [],
   "source": [
    "hidden1_model1 = model1.layers[1]\n",
    "hidden1_model2 = model2.layers[1]\n",
    "hidden1_model3 = model3.layers[1]\n",
    "\n",
    "#hidden1.name"
   ]
  },
  {
   "cell_type": "code",
   "execution_count": 24,
   "metadata": {},
   "outputs": [],
   "source": [
    "hidden1_model4 = model4.layers[1]"
   ]
  },
  {
   "cell_type": "code",
   "execution_count": 25,
   "metadata": {},
   "outputs": [],
   "source": [
    "#model.get_layer(hidden1.name) is hidden1"
   ]
  },
  {
   "cell_type": "code",
   "execution_count": 26,
   "metadata": {},
   "outputs": [],
   "source": [
    "weights1, biases1 = hidden1_model1.get_weights()\n",
    "weights2, biases2 = hidden1_model2.get_weights()\n",
    "weights3, biases3 = hidden1_model3.get_weights()\n"
   ]
  },
  {
   "cell_type": "code",
   "execution_count": 27,
   "metadata": {},
   "outputs": [],
   "source": [
    "weights4, biases4 = hidden1_model4.get_weights()"
   ]
  },
  {
   "cell_type": "code",
   "execution_count": 28,
   "metadata": {},
   "outputs": [
    {
     "data": {
      "text/plain": [
       "array([[ 0.03869117, -0.04929594, -0.00996195, ...,  0.07362023,\n",
       "        -0.02853382,  0.04406986],\n",
       "       [ 0.00685047, -0.00263154, -0.0356042 , ..., -0.03557554,\n",
       "         0.00539165, -0.04134346],\n",
       "       [-0.02602502, -0.0593543 ,  0.00865638, ..., -0.04082566,\n",
       "        -0.01884331,  0.05720402],\n",
       "       ...,\n",
       "       [ 0.03500222,  0.06224796,  0.00094025, ..., -0.01958988,\n",
       "        -0.00078505, -0.03221514],\n",
       "       [-0.06643803, -0.04955602,  0.0584287 , ...,  0.03332549,\n",
       "        -0.01734581, -0.04895907],\n",
       "       [ 0.0639572 , -0.03875984, -0.05963442, ..., -0.01951368,\n",
       "         0.05791879, -0.01171846]], dtype=float32)"
      ]
     },
     "execution_count": 28,
     "metadata": {},
     "output_type": "execute_result"
    }
   ],
   "source": [
    "weights1\n",
    "weights2\n",
    "weights3\n",
    "\n"
   ]
  },
  {
   "cell_type": "code",
   "execution_count": 29,
   "metadata": {},
   "outputs": [
    {
     "data": {
      "text/plain": [
       "array([[-0.00715376, -0.05233774,  0.02749593, ..., -0.06169162,\n",
       "         0.0269495 , -0.03850285],\n",
       "       [ 0.00540812, -0.02243083, -0.04930951, ...,  0.00851756,\n",
       "        -0.05387632, -0.00754657],\n",
       "       [-0.05179095,  0.06447935,  0.03884704, ..., -0.04584496,\n",
       "        -0.06279118, -0.05247576],\n",
       "       ...,\n",
       "       [ 0.04756767, -0.03751498, -0.06493583, ...,  0.00336306,\n",
       "         0.05076356, -0.0505899 ],\n",
       "       [ 0.02589895, -0.06606923,  0.05875063, ..., -0.03343305,\n",
       "         0.05277276, -0.00760562],\n",
       "       [-0.04875952, -0.04897084,  0.06800273, ..., -0.0163358 ,\n",
       "         0.03255235,  0.06642044]], dtype=float32)"
      ]
     },
     "execution_count": 29,
     "metadata": {},
     "output_type": "execute_result"
    }
   ],
   "source": [
    "weights4"
   ]
  },
  {
   "cell_type": "code",
   "execution_count": 30,
   "metadata": {},
   "outputs": [
    {
     "data": {
      "text/plain": [
       "(784, 300)"
      ]
     },
     "execution_count": 30,
     "metadata": {},
     "output_type": "execute_result"
    }
   ],
   "source": [
    "weights1.shape\n",
    "weights2.shape\n",
    "weights3.shape\n"
   ]
  },
  {
   "cell_type": "code",
   "execution_count": 31,
   "metadata": {},
   "outputs": [
    {
     "data": {
      "text/plain": [
       "(784, 300)"
      ]
     },
     "execution_count": 31,
     "metadata": {},
     "output_type": "execute_result"
    }
   ],
   "source": [
    "weights4.shape"
   ]
  },
  {
   "cell_type": "code",
   "execution_count": 32,
   "metadata": {},
   "outputs": [
    {
     "data": {
      "text/plain": [
       "array([0., 0., 0., 0., 0., 0., 0., 0., 0., 0., 0., 0., 0., 0., 0., 0., 0.,\n",
       "       0., 0., 0., 0., 0., 0., 0., 0., 0., 0., 0., 0., 0., 0., 0., 0., 0.,\n",
       "       0., 0., 0., 0., 0., 0., 0., 0., 0., 0., 0., 0., 0., 0., 0., 0., 0.,\n",
       "       0., 0., 0., 0., 0., 0., 0., 0., 0., 0., 0., 0., 0., 0., 0., 0., 0.,\n",
       "       0., 0., 0., 0., 0., 0., 0., 0., 0., 0., 0., 0., 0., 0., 0., 0., 0.,\n",
       "       0., 0., 0., 0., 0., 0., 0., 0., 0., 0., 0., 0., 0., 0., 0., 0., 0.,\n",
       "       0., 0., 0., 0., 0., 0., 0., 0., 0., 0., 0., 0., 0., 0., 0., 0., 0.,\n",
       "       0., 0., 0., 0., 0., 0., 0., 0., 0., 0., 0., 0., 0., 0., 0., 0., 0.,\n",
       "       0., 0., 0., 0., 0., 0., 0., 0., 0., 0., 0., 0., 0., 0., 0., 0., 0.,\n",
       "       0., 0., 0., 0., 0., 0., 0., 0., 0., 0., 0., 0., 0., 0., 0., 0., 0.,\n",
       "       0., 0., 0., 0., 0., 0., 0., 0., 0., 0., 0., 0., 0., 0., 0., 0., 0.,\n",
       "       0., 0., 0., 0., 0., 0., 0., 0., 0., 0., 0., 0., 0., 0., 0., 0., 0.,\n",
       "       0., 0., 0., 0., 0., 0., 0., 0., 0., 0., 0., 0., 0., 0., 0., 0., 0.,\n",
       "       0., 0., 0., 0., 0., 0., 0., 0., 0., 0., 0., 0., 0., 0., 0., 0., 0.,\n",
       "       0., 0., 0., 0., 0., 0., 0., 0., 0., 0., 0., 0., 0., 0., 0., 0., 0.,\n",
       "       0., 0., 0., 0., 0., 0., 0., 0., 0., 0., 0., 0., 0., 0., 0., 0., 0.,\n",
       "       0., 0., 0., 0., 0., 0., 0., 0., 0., 0., 0., 0., 0., 0., 0., 0., 0.,\n",
       "       0., 0., 0., 0., 0., 0., 0., 0., 0., 0., 0.], dtype=float32)"
      ]
     },
     "execution_count": 32,
     "metadata": {},
     "output_type": "execute_result"
    }
   ],
   "source": [
    "biases2"
   ]
  },
  {
   "cell_type": "code",
   "execution_count": 33,
   "metadata": {},
   "outputs": [
    {
     "data": {
      "text/plain": [
       "(300,)"
      ]
     },
     "execution_count": 33,
     "metadata": {},
     "output_type": "execute_result"
    }
   ],
   "source": [
    "biases1.shape"
   ]
  },
  {
   "cell_type": "markdown",
   "metadata": {},
   "source": [
    "## Compile the Model"
   ]
  },
  {
   "cell_type": "markdown",
   "metadata": {},
   "source": [
    "Here you can chose the loss function, the optimizer, the performance metric, etc. check Keras documentation for further details."
   ]
  },
  {
   "cell_type": "code",
   "execution_count": 34,
   "metadata": {},
   "outputs": [],
   "source": [
    "# with optimizer ADAM\n",
    "model1.compile(loss=\"sparse_categorical_crossentropy\",\n",
    "            optimizer=\"Adam\",\n",
    "           metrics=[\"accuracy\"])"
   ]
  },
  {
   "cell_type": "code",
   "execution_count": 35,
   "metadata": {},
   "outputs": [],
   "source": [
    "#with optimizer stochastic gradient descent\n",
    "model2.compile(loss=\"sparse_categorical_crossentropy\",\n",
    "              optimizer=\"sgd\",\n",
    "              metrics=[\"accuracy\"])"
   ]
  },
  {
   "cell_type": "code",
   "execution_count": 36,
   "metadata": {},
   "outputs": [],
   "source": [
    "#with optimizer RMSprop\n",
    "model3.compile(loss=\"sparse_categorical_crossentropy\",\n",
    "              optimizer=\"RMSprop\",\n",
    "              metrics=[\"accuracy\"])"
   ]
  },
  {
   "cell_type": "code",
   "execution_count": 37,
   "metadata": {},
   "outputs": [],
   "source": [
    "model4.compile(loss=\"sparse_categorical_crossentropy\",\n",
    "              optimizer=\"Adam\",\n",
    "              metrics=[\"accuracy\"])"
   ]
  },
  {
   "cell_type": "markdown",
   "metadata": {},
   "source": [
    "#This is equivalent to:\n",
    "\n",
    "model.compile(loss=keras.losses.sparse_categorical_crossentropy,\n",
    "              optimizer=keras.optimizers.SGD(),\n",
    "              metrics=[keras.metrics.sparse_categorical_accuracy])"
   ]
  },
  {
   "cell_type": "markdown",
   "metadata": {},
   "source": [
    "## Train the model"
   ]
  },
  {
   "cell_type": "markdown",
   "metadata": {},
   "source": [
    "Here you can chose how many epochs you need and the batch size."
   ]
  },
  {
   "cell_type": "markdown",
   "metadata": {},
   "source": [
    "#### training model1"
   ]
  },
  {
   "cell_type": "code",
   "execution_count": 38,
   "metadata": {},
   "outputs": [
    {
     "name": "stdout",
     "output_type": "stream",
     "text": [
      "Epoch 1/50\n",
      "1100/1100 [==============================] - 3s 3ms/step - loss: 0.4942 - accuracy: 0.8225 - val_loss: 0.3848 - val_accuracy: 0.8634\n",
      "Epoch 2/50\n",
      "1100/1100 [==============================] - 3s 3ms/step - loss: 0.3677 - accuracy: 0.8661 - val_loss: 0.3275 - val_accuracy: 0.8808\n",
      "Epoch 3/50\n",
      "1100/1100 [==============================] - 3s 3ms/step - loss: 0.3298 - accuracy: 0.8779 - val_loss: 0.3136 - val_accuracy: 0.8882\n",
      "Epoch 4/50\n",
      "1100/1100 [==============================] - 3s 3ms/step - loss: 0.3062 - accuracy: 0.8856 - val_loss: 0.3130 - val_accuracy: 0.8826\n",
      "Epoch 5/50\n",
      "1100/1100 [==============================] - 3s 3ms/step - loss: 0.2890 - accuracy: 0.8932 - val_loss: 0.3100 - val_accuracy: 0.8828\n",
      "Epoch 6/50\n",
      "1100/1100 [==============================] - 3s 3ms/step - loss: 0.2723 - accuracy: 0.8986 - val_loss: 0.3190 - val_accuracy: 0.8866\n",
      "Epoch 7/50\n",
      "1100/1100 [==============================] - 3s 3ms/step - loss: 0.2593 - accuracy: 0.9024 - val_loss: 0.2847 - val_accuracy: 0.8962\n",
      "Epoch 8/50\n",
      "1100/1100 [==============================] - 3s 3ms/step - loss: 0.2473 - accuracy: 0.9075 - val_loss: 0.2948 - val_accuracy: 0.8970\n",
      "Epoch 9/50\n",
      "1100/1100 [==============================] - 3s 3ms/step - loss: 0.2367 - accuracy: 0.9116 - val_loss: 0.2993 - val_accuracy: 0.8920\n",
      "Epoch 10/50\n",
      "1100/1100 [==============================] - 3s 3ms/step - loss: 0.2268 - accuracy: 0.9136 - val_loss: 0.2893 - val_accuracy: 0.8976\n",
      "Epoch 11/50\n",
      "1100/1100 [==============================] - 3s 3ms/step - loss: 0.2195 - accuracy: 0.9170 - val_loss: 0.2924 - val_accuracy: 0.8986\n",
      "Epoch 12/50\n",
      "1100/1100 [==============================] - 3s 3ms/step - loss: 0.2120 - accuracy: 0.9205 - val_loss: 0.3060 - val_accuracy: 0.8956\n",
      "Epoch 13/50\n",
      "1100/1100 [==============================] - 3s 3ms/step - loss: 0.2041 - accuracy: 0.9217 - val_loss: 0.3064 - val_accuracy: 0.8924\n",
      "Epoch 14/50\n",
      "1100/1100 [==============================] - 3s 3ms/step - loss: 0.1964 - accuracy: 0.9258 - val_loss: 0.2966 - val_accuracy: 0.8974\n",
      "Epoch 15/50\n",
      "1100/1100 [==============================] - 4s 3ms/step - loss: 0.1888 - accuracy: 0.9288 - val_loss: 0.2922 - val_accuracy: 0.9034\n",
      "Epoch 16/50\n",
      "1100/1100 [==============================] - 4s 3ms/step - loss: 0.1834 - accuracy: 0.9303 - val_loss: 0.3200 - val_accuracy: 0.8990\n",
      "Epoch 17/50\n",
      "1100/1100 [==============================] - 3s 3ms/step - loss: 0.1791 - accuracy: 0.9324 - val_loss: 0.2987 - val_accuracy: 0.8998\n",
      "Epoch 18/50\n",
      "1100/1100 [==============================] - 3s 3ms/step - loss: 0.1718 - accuracy: 0.9331 - val_loss: 0.2942 - val_accuracy: 0.9016\n",
      "Epoch 19/50\n",
      "1100/1100 [==============================] - 3s 3ms/step - loss: 0.1649 - accuracy: 0.9364 - val_loss: 0.3002 - val_accuracy: 0.9038\n",
      "Epoch 20/50\n",
      "1100/1100 [==============================] - 3s 3ms/step - loss: 0.1610 - accuracy: 0.9384 - val_loss: 0.3188 - val_accuracy: 0.9006\n",
      "Epoch 21/50\n",
      "1100/1100 [==============================] - 3s 3ms/step - loss: 0.1570 - accuracy: 0.9408 - val_loss: 0.3322 - val_accuracy: 0.8990\n",
      "Epoch 22/50\n",
      "1100/1100 [==============================] - 3s 3ms/step - loss: 0.1506 - accuracy: 0.9418 - val_loss: 0.3270 - val_accuracy: 0.8970\n",
      "Epoch 23/50\n",
      "1100/1100 [==============================] - 3s 3ms/step - loss: 0.1478 - accuracy: 0.9426 - val_loss: 0.3378 - val_accuracy: 0.8998\n",
      "Epoch 24/50\n",
      "1100/1100 [==============================] - 3s 3ms/step - loss: 0.1417 - accuracy: 0.9459 - val_loss: 0.3454 - val_accuracy: 0.8990\n",
      "Epoch 25/50\n",
      "1100/1100 [==============================] - 3s 3ms/step - loss: 0.1422 - accuracy: 0.9451 - val_loss: 0.3534 - val_accuracy: 0.8994\n",
      "Epoch 26/50\n",
      "1100/1100 [==============================] - 3s 3ms/step - loss: 0.1342 - accuracy: 0.9482 - val_loss: 0.3671 - val_accuracy: 0.9038\n",
      "Epoch 27/50\n",
      "1100/1100 [==============================] - 3s 3ms/step - loss: 0.1343 - accuracy: 0.9477 - val_loss: 0.3526 - val_accuracy: 0.9002\n",
      "Epoch 28/50\n",
      "1100/1100 [==============================] - 3s 3ms/step - loss: 0.1246 - accuracy: 0.9521 - val_loss: 0.4052 - val_accuracy: 0.9014\n",
      "Epoch 29/50\n",
      "1100/1100 [==============================] - 3s 3ms/step - loss: 0.1245 - accuracy: 0.9531 - val_loss: 0.3861 - val_accuracy: 0.8956\n",
      "Epoch 30/50\n",
      "1100/1100 [==============================] - 3s 3ms/step - loss: 0.1201 - accuracy: 0.9534 - val_loss: 0.3815 - val_accuracy: 0.9016\n",
      "Epoch 31/50\n",
      "1100/1100 [==============================] - 3s 3ms/step - loss: 0.1224 - accuracy: 0.9538 - val_loss: 0.4027 - val_accuracy: 0.8952\n",
      "Epoch 32/50\n",
      "1100/1100 [==============================] - 3s 3ms/step - loss: 0.1138 - accuracy: 0.9561 - val_loss: 0.4140 - val_accuracy: 0.8954\n",
      "Epoch 33/50\n",
      "1100/1100 [==============================] - 3s 3ms/step - loss: 0.1145 - accuracy: 0.9555 - val_loss: 0.4093 - val_accuracy: 0.9032\n",
      "Epoch 34/50\n",
      "1100/1100 [==============================] - 3s 3ms/step - loss: 0.1076 - accuracy: 0.9581 - val_loss: 0.4555 - val_accuracy: 0.8982\n",
      "Epoch 35/50\n",
      "1100/1100 [==============================] - 4s 3ms/step - loss: 0.1098 - accuracy: 0.9580 - val_loss: 0.4780 - val_accuracy: 0.8970\n",
      "Epoch 36/50\n",
      "1100/1100 [==============================] - 4s 3ms/step - loss: 0.1030 - accuracy: 0.9608 - val_loss: 0.4329 - val_accuracy: 0.9016\n",
      "Epoch 37/50\n",
      "1100/1100 [==============================] - 3s 3ms/step - loss: 0.1021 - accuracy: 0.9599 - val_loss: 0.4554 - val_accuracy: 0.9008\n",
      "Epoch 38/50\n",
      "1100/1100 [==============================] - 3s 3ms/step - loss: 0.0991 - accuracy: 0.9614 - val_loss: 0.4520 - val_accuracy: 0.9000\n",
      "Epoch 39/50\n",
      "1100/1100 [==============================] - 3s 3ms/step - loss: 0.0956 - accuracy: 0.9632 - val_loss: 0.4730 - val_accuracy: 0.8992\n",
      "Epoch 40/50\n",
      "1100/1100 [==============================] - 3s 3ms/step - loss: 0.0945 - accuracy: 0.9628 - val_loss: 0.4711 - val_accuracy: 0.8994\n",
      "Epoch 41/50\n",
      "1100/1100 [==============================] - 3s 3ms/step - loss: 0.0907 - accuracy: 0.9656 - val_loss: 0.5021 - val_accuracy: 0.8994\n",
      "Epoch 42/50\n",
      "1100/1100 [==============================] - 3s 3ms/step - loss: 0.0930 - accuracy: 0.9645 - val_loss: 0.4799 - val_accuracy: 0.8970\n",
      "Epoch 43/50\n",
      "1100/1100 [==============================] - 3s 3ms/step - loss: 0.0891 - accuracy: 0.9659 - val_loss: 0.4653 - val_accuracy: 0.9000\n",
      "Epoch 44/50\n",
      "1100/1100 [==============================] - 3s 3ms/step - loss: 0.0884 - accuracy: 0.9662 - val_loss: 0.4812 - val_accuracy: 0.9010\n",
      "Epoch 45/50\n",
      "1100/1100 [==============================] - 3s 3ms/step - loss: 0.0876 - accuracy: 0.9671 - val_loss: 0.4974 - val_accuracy: 0.9064\n",
      "Epoch 46/50\n",
      "1100/1100 [==============================] - 4s 3ms/step - loss: 0.0843 - accuracy: 0.9681 - val_loss: 0.5231 - val_accuracy: 0.9028\n",
      "Epoch 47/50\n",
      "1100/1100 [==============================] - 4s 3ms/step - loss: 0.0829 - accuracy: 0.9683 - val_loss: 0.5140 - val_accuracy: 0.8968\n",
      "Epoch 48/50\n",
      "1100/1100 [==============================] - 4s 3ms/step - loss: 0.0789 - accuracy: 0.9699 - val_loss: 0.5122 - val_accuracy: 0.9004\n",
      "Epoch 49/50\n",
      "1100/1100 [==============================] - 3s 3ms/step - loss: 0.0811 - accuracy: 0.9688 - val_loss: 0.5429 - val_accuracy: 0.8980\n",
      "Epoch 50/50\n",
      "1100/1100 [==============================] - 4s 3ms/step - loss: 0.0787 - accuracy: 0.9702 - val_loss: 0.5306 - val_accuracy: 0.9012\n"
     ]
    }
   ],
   "source": [
    "history1 = model1.fit(X_train, y_train, batch_size=50, epochs=50,\n",
    "                    validation_data=(X_valid, y_valid))"
   ]
  },
  {
   "cell_type": "markdown",
   "metadata": {},
   "source": [
    "#### training model 2(optimizer SGD)"
   ]
  },
  {
   "cell_type": "code",
   "execution_count": 39,
   "metadata": {},
   "outputs": [
    {
     "name": "stdout",
     "output_type": "stream",
     "text": [
      "Epoch 1/50\n",
      "1100/1100 [==============================] - 4s 4ms/step - loss: 0.8176 - accuracy: 0.7416 - val_loss: 0.5611 - val_accuracy: 0.8134\n",
      "Epoch 2/50\n",
      "1100/1100 [==============================] - 4s 4ms/step - loss: 0.5255 - accuracy: 0.8192 - val_loss: 0.4791 - val_accuracy: 0.8364\n",
      "Epoch 3/50\n",
      "1100/1100 [==============================] - 4s 4ms/step - loss: 0.4733 - accuracy: 0.8345 - val_loss: 0.4569 - val_accuracy: 0.8440\n",
      "Epoch 4/50\n",
      "1100/1100 [==============================] - 4s 4ms/step - loss: 0.4443 - accuracy: 0.8445 - val_loss: 0.4204 - val_accuracy: 0.8578\n",
      "Epoch 5/50\n",
      "1100/1100 [==============================] - 3s 3ms/step - loss: 0.4241 - accuracy: 0.8518 - val_loss: 0.4163 - val_accuracy: 0.8582\n",
      "Epoch 6/50\n",
      "1100/1100 [==============================] - 3s 3ms/step - loss: 0.4079 - accuracy: 0.8571 - val_loss: 0.3988 - val_accuracy: 0.8656\n",
      "Epoch 7/50\n",
      "1100/1100 [==============================] - 3s 2ms/step - loss: 0.3948 - accuracy: 0.8614 - val_loss: 0.3910 - val_accuracy: 0.8658\n",
      "Epoch 8/50\n",
      "1100/1100 [==============================] - 4s 4ms/step - loss: 0.3836 - accuracy: 0.8656 - val_loss: 0.3789 - val_accuracy: 0.8684\n",
      "Epoch 9/50\n",
      "1100/1100 [==============================] - 5s 5ms/step - loss: 0.3736 - accuracy: 0.8683 - val_loss: 0.3851 - val_accuracy: 0.8682\n",
      "Epoch 10/50\n",
      "1100/1100 [==============================] - 3s 3ms/step - loss: 0.3643 - accuracy: 0.8721 - val_loss: 0.3733 - val_accuracy: 0.8710\n",
      "Epoch 11/50\n",
      "1100/1100 [==============================] - 3s 3ms/step - loss: 0.3566 - accuracy: 0.8741 - val_loss: 0.3602 - val_accuracy: 0.8740\n",
      "Epoch 12/50\n",
      "1100/1100 [==============================] - 4s 3ms/step - loss: 0.3489 - accuracy: 0.8773 - val_loss: 0.3572 - val_accuracy: 0.8748\n",
      "Epoch 13/50\n",
      "1100/1100 [==============================] - 4s 3ms/step - loss: 0.3415 - accuracy: 0.8793 - val_loss: 0.3566 - val_accuracy: 0.8754\n",
      "Epoch 14/50\n",
      "1100/1100 [==============================] - 3s 3ms/step - loss: 0.3349 - accuracy: 0.8817 - val_loss: 0.3737 - val_accuracy: 0.8662\n",
      "Epoch 15/50\n",
      "1100/1100 [==============================] - 3s 3ms/step - loss: 0.3284 - accuracy: 0.8835 - val_loss: 0.3436 - val_accuracy: 0.8784\n",
      "Epoch 16/50\n",
      "1100/1100 [==============================] - 3s 3ms/step - loss: 0.3226 - accuracy: 0.8862 - val_loss: 0.3369 - val_accuracy: 0.8772\n",
      "Epoch 17/50\n",
      "1100/1100 [==============================] - 3s 3ms/step - loss: 0.3177 - accuracy: 0.8876 - val_loss: 0.3412 - val_accuracy: 0.8824\n",
      "Epoch 18/50\n",
      "1100/1100 [==============================] - 3s 3ms/step - loss: 0.3124 - accuracy: 0.8894 - val_loss: 0.3282 - val_accuracy: 0.8818\n",
      "Epoch 19/50\n",
      "1100/1100 [==============================] - 3s 3ms/step - loss: 0.3071 - accuracy: 0.8912 - val_loss: 0.3241 - val_accuracy: 0.8804\n",
      "Epoch 20/50\n",
      "1100/1100 [==============================] - 3s 3ms/step - loss: 0.3030 - accuracy: 0.8926 - val_loss: 0.3499 - val_accuracy: 0.8790\n",
      "Epoch 21/50\n",
      "1100/1100 [==============================] - 4s 3ms/step - loss: 0.2973 - accuracy: 0.8941 - val_loss: 0.3223 - val_accuracy: 0.8826\n",
      "Epoch 22/50\n",
      "1100/1100 [==============================] - 4s 3ms/step - loss: 0.2931 - accuracy: 0.8966 - val_loss: 0.3252 - val_accuracy: 0.8846\n",
      "Epoch 23/50\n",
      "1100/1100 [==============================] - 4s 3ms/step - loss: 0.2885 - accuracy: 0.8975 - val_loss: 0.3155 - val_accuracy: 0.8868\n",
      "Epoch 24/50\n",
      "1100/1100 [==============================] - 4s 3ms/step - loss: 0.2849 - accuracy: 0.8975 - val_loss: 0.3166 - val_accuracy: 0.8872\n",
      "Epoch 25/50\n",
      "1100/1100 [==============================] - 4s 3ms/step - loss: 0.2805 - accuracy: 0.8999 - val_loss: 0.3221 - val_accuracy: 0.8844\n",
      "Epoch 26/50\n",
      "1100/1100 [==============================] - 4s 3ms/step - loss: 0.2771 - accuracy: 0.9015 - val_loss: 0.3178 - val_accuracy: 0.8802\n",
      "Epoch 27/50\n",
      "1100/1100 [==============================] - 3s 3ms/step - loss: 0.2725 - accuracy: 0.9026 - val_loss: 0.3109 - val_accuracy: 0.8894\n",
      "Epoch 28/50\n",
      "1100/1100 [==============================] - 3s 3ms/step - loss: 0.2689 - accuracy: 0.9036 - val_loss: 0.3234 - val_accuracy: 0.8866\n",
      "Epoch 29/50\n",
      "1100/1100 [==============================] - 3s 3ms/step - loss: 0.2654 - accuracy: 0.9056 - val_loss: 0.3271 - val_accuracy: 0.8816\n",
      "Epoch 30/50\n",
      "1100/1100 [==============================] - 4s 3ms/step - loss: 0.2621 - accuracy: 0.9065 - val_loss: 0.3215 - val_accuracy: 0.8842\n",
      "Epoch 31/50\n",
      "1100/1100 [==============================] - 3s 3ms/step - loss: 0.2581 - accuracy: 0.9084 - val_loss: 0.3362 - val_accuracy: 0.8830\n",
      "Epoch 32/50\n",
      "1100/1100 [==============================] - 3s 3ms/step - loss: 0.2554 - accuracy: 0.9084 - val_loss: 0.3141 - val_accuracy: 0.8832\n",
      "Epoch 33/50\n",
      "1100/1100 [==============================] - 3s 3ms/step - loss: 0.2522 - accuracy: 0.9099 - val_loss: 0.3081 - val_accuracy: 0.8926\n",
      "Epoch 34/50\n",
      "1100/1100 [==============================] - 3s 3ms/step - loss: 0.2487 - accuracy: 0.9118 - val_loss: 0.2969 - val_accuracy: 0.8936\n",
      "Epoch 35/50\n",
      "1100/1100 [==============================] - 3s 3ms/step - loss: 0.2459 - accuracy: 0.9116 - val_loss: 0.3049 - val_accuracy: 0.8914\n",
      "Epoch 36/50\n",
      "1100/1100 [==============================] - 3s 3ms/step - loss: 0.2425 - accuracy: 0.9134 - val_loss: 0.3022 - val_accuracy: 0.8886\n",
      "Epoch 37/50\n",
      "1100/1100 [==============================] - 4s 3ms/step - loss: 0.2391 - accuracy: 0.9149 - val_loss: 0.3022 - val_accuracy: 0.8914\n",
      "Epoch 38/50\n",
      "1100/1100 [==============================] - 3s 3ms/step - loss: 0.2351 - accuracy: 0.9162 - val_loss: 0.3046 - val_accuracy: 0.8874\n",
      "Epoch 39/50\n",
      "1100/1100 [==============================] - 3s 3ms/step - loss: 0.2334 - accuracy: 0.9166 - val_loss: 0.2979 - val_accuracy: 0.8940\n",
      "Epoch 40/50\n",
      "1100/1100 [==============================] - 4s 3ms/step - loss: 0.2300 - accuracy: 0.9176 - val_loss: 0.2952 - val_accuracy: 0.8960\n",
      "Epoch 41/50\n",
      "1100/1100 [==============================] - 4s 3ms/step - loss: 0.2277 - accuracy: 0.9191 - val_loss: 0.3004 - val_accuracy: 0.8942\n",
      "Epoch 42/50\n",
      "1100/1100 [==============================] - 4s 3ms/step - loss: 0.2248 - accuracy: 0.9213 - val_loss: 0.3053 - val_accuracy: 0.8904\n",
      "Epoch 43/50\n",
      "1100/1100 [==============================] - 4s 3ms/step - loss: 0.2218 - accuracy: 0.9214 - val_loss: 0.3008 - val_accuracy: 0.8928\n",
      "Epoch 44/50\n",
      "1100/1100 [==============================] - 3s 3ms/step - loss: 0.2201 - accuracy: 0.9216 - val_loss: 0.2973 - val_accuracy: 0.8904\n",
      "Epoch 45/50\n",
      "1100/1100 [==============================] - 3s 3ms/step - loss: 0.2166 - accuracy: 0.9233 - val_loss: 0.3002 - val_accuracy: 0.8894\n",
      "Epoch 46/50\n",
      "1100/1100 [==============================] - 3s 3ms/step - loss: 0.2145 - accuracy: 0.9238 - val_loss: 0.3005 - val_accuracy: 0.8928\n",
      "Epoch 47/50\n",
      "1100/1100 [==============================] - 3s 3ms/step - loss: 0.2119 - accuracy: 0.9242 - val_loss: 0.2930 - val_accuracy: 0.8964\n",
      "Epoch 48/50\n",
      "1100/1100 [==============================] - 4s 3ms/step - loss: 0.2091 - accuracy: 0.9257 - val_loss: 0.2998 - val_accuracy: 0.8948\n",
      "Epoch 49/50\n",
      "1100/1100 [==============================] - 3s 3ms/step - loss: 0.2062 - accuracy: 0.9260 - val_loss: 0.2935 - val_accuracy: 0.8952\n",
      "Epoch 50/50\n",
      "1100/1100 [==============================] - 3s 3ms/step - loss: 0.2049 - accuracy: 0.9267 - val_loss: 0.3000 - val_accuracy: 0.8928\n"
     ]
    }
   ],
   "source": [
    "history2 = model2.fit(X_train, y_train, batch_size=50, epochs=50,\n",
    "                    validation_data=(X_valid, y_valid))"
   ]
  },
  {
   "cell_type": "markdown",
   "metadata": {},
   "source": [
    "#### trainingmodel 3 (optimizer RMSpop)"
   ]
  },
  {
   "cell_type": "code",
   "execution_count": 40,
   "metadata": {},
   "outputs": [
    {
     "name": "stdout",
     "output_type": "stream",
     "text": [
      "Epoch 1/50\n",
      "1100/1100 [==============================] - 5s 5ms/step - loss: 0.5101 - accuracy: 0.8161 - val_loss: 0.3826 - val_accuracy: 0.8616\n",
      "Epoch 2/50\n",
      "1100/1100 [==============================] - 5s 4ms/step - loss: 0.3776 - accuracy: 0.8626 - val_loss: 0.3507 - val_accuracy: 0.8774\n",
      "Epoch 3/50\n",
      "1100/1100 [==============================] - 5s 4ms/step - loss: 0.3495 - accuracy: 0.8738 - val_loss: 0.3324 - val_accuracy: 0.8888\n",
      "Epoch 4/50\n",
      "1100/1100 [==============================] - 5s 4ms/step - loss: 0.3303 - accuracy: 0.8814 - val_loss: 0.3512 - val_accuracy: 0.8788\n",
      "Epoch 5/50\n",
      "1100/1100 [==============================] - 5s 4ms/step - loss: 0.3202 - accuracy: 0.8859 - val_loss: 0.3489 - val_accuracy: 0.8868\n",
      "Epoch 6/50\n",
      "1100/1100 [==============================] - 5s 4ms/step - loss: 0.3061 - accuracy: 0.8907 - val_loss: 0.3786 - val_accuracy: 0.8804\n",
      "Epoch 7/50\n",
      "1100/1100 [==============================] - 5s 5ms/step - loss: 0.3007 - accuracy: 0.8932 - val_loss: 0.3805 - val_accuracy: 0.8764\n",
      "Epoch 8/50\n",
      "1100/1100 [==============================] - 5s 5ms/step - loss: 0.2923 - accuracy: 0.8957 - val_loss: 0.3598 - val_accuracy: 0.8882\n",
      "Epoch 9/50\n",
      "1100/1100 [==============================] - 5s 4ms/step - loss: 0.2858 - accuracy: 0.8994 - val_loss: 0.3786 - val_accuracy: 0.8860\n",
      "Epoch 10/50\n",
      "1100/1100 [==============================] - 5s 4ms/step - loss: 0.2839 - accuracy: 0.8997 - val_loss: 0.4070 - val_accuracy: 0.8806\n",
      "Epoch 11/50\n",
      "1100/1100 [==============================] - 5s 4ms/step - loss: 0.2763 - accuracy: 0.9024 - val_loss: 0.4169 - val_accuracy: 0.8976\n",
      "Epoch 12/50\n",
      "1100/1100 [==============================] - 5s 4ms/step - loss: 0.2746 - accuracy: 0.9049 - val_loss: 0.4646 - val_accuracy: 0.8828\n",
      "Epoch 13/50\n",
      "1100/1100 [==============================] - 5s 4ms/step - loss: 0.2646 - accuracy: 0.9075 - val_loss: 0.5028 - val_accuracy: 0.8884\n",
      "Epoch 14/50\n",
      "1100/1100 [==============================] - 5s 4ms/step - loss: 0.2669 - accuracy: 0.9064 - val_loss: 0.5334 - val_accuracy: 0.8812\n",
      "Epoch 15/50\n",
      "1100/1100 [==============================] - 5s 4ms/step - loss: 0.2605 - accuracy: 0.9093 - val_loss: 0.5244 - val_accuracy: 0.8850\n",
      "Epoch 16/50\n",
      "1100/1100 [==============================] - 5s 4ms/step - loss: 0.2587 - accuracy: 0.9103 - val_loss: 0.5015 - val_accuracy: 0.8952\n",
      "Epoch 17/50\n",
      "1100/1100 [==============================] - 5s 4ms/step - loss: 0.2528 - accuracy: 0.9113 - val_loss: 0.6617 - val_accuracy: 0.8858\n",
      "Epoch 18/50\n",
      "1100/1100 [==============================] - 5s 4ms/step - loss: 0.2511 - accuracy: 0.9131 - val_loss: 0.5396 - val_accuracy: 0.8890\n",
      "Epoch 19/50\n",
      "1100/1100 [==============================] - 5s 4ms/step - loss: 0.2448 - accuracy: 0.9147 - val_loss: 0.5911 - val_accuracy: 0.8902\n",
      "Epoch 20/50\n",
      "1100/1100 [==============================] - 5s 5ms/step - loss: 0.2474 - accuracy: 0.9167 - val_loss: 0.6555 - val_accuracy: 0.8870\n",
      "Epoch 21/50\n",
      "1100/1100 [==============================] - 5s 5ms/step - loss: 0.2402 - accuracy: 0.9175 - val_loss: 0.6830 - val_accuracy: 0.8806\n",
      "Epoch 22/50\n",
      "1100/1100 [==============================] - 5s 5ms/step - loss: 0.2383 - accuracy: 0.9177 - val_loss: 0.6143 - val_accuracy: 0.8880\n",
      "Epoch 23/50\n",
      "1100/1100 [==============================] - 5s 4ms/step - loss: 0.2345 - accuracy: 0.9191 - val_loss: 0.6291 - val_accuracy: 0.8846\n",
      "Epoch 24/50\n",
      "1100/1100 [==============================] - 5s 4ms/step - loss: 0.2347 - accuracy: 0.9195 - val_loss: 0.6413 - val_accuracy: 0.8844\n",
      "Epoch 25/50\n",
      "1100/1100 [==============================] - 5s 4ms/step - loss: 0.2341 - accuracy: 0.9218 - val_loss: 0.7047 - val_accuracy: 0.8870\n",
      "Epoch 26/50\n",
      "1100/1100 [==============================] - 5s 4ms/step - loss: 0.2343 - accuracy: 0.9226 - val_loss: 0.7003 - val_accuracy: 0.8860\n",
      "Epoch 27/50\n",
      "1100/1100 [==============================] - 5s 4ms/step - loss: 0.2295 - accuracy: 0.9239 - val_loss: 0.7576 - val_accuracy: 0.8900\n",
      "Epoch 28/50\n",
      "1100/1100 [==============================] - 5s 5ms/step - loss: 0.2262 - accuracy: 0.9252 - val_loss: 0.7590 - val_accuracy: 0.8870\n",
      "Epoch 29/50\n",
      "1100/1100 [==============================] - 5s 5ms/step - loss: 0.2268 - accuracy: 0.9260 - val_loss: 0.7013 - val_accuracy: 0.8912\n",
      "Epoch 30/50\n",
      "1100/1100 [==============================] - 5s 4ms/step - loss: 0.2190 - accuracy: 0.9272 - val_loss: 0.8014 - val_accuracy: 0.8932\n",
      "Epoch 31/50\n",
      "1100/1100 [==============================] - 5s 5ms/step - loss: 0.2129 - accuracy: 0.9281 - val_loss: 0.7476 - val_accuracy: 0.8808\n",
      "Epoch 32/50\n",
      "1100/1100 [==============================] - 5s 5ms/step - loss: 0.2191 - accuracy: 0.9291 - val_loss: 0.7982 - val_accuracy: 0.8876\n",
      "Epoch 33/50\n",
      "1100/1100 [==============================] - 5s 4ms/step - loss: 0.2130 - accuracy: 0.9289 - val_loss: 0.7961 - val_accuracy: 0.8892\n",
      "Epoch 34/50\n",
      "1100/1100 [==============================] - 5s 5ms/step - loss: 0.2167 - accuracy: 0.9298 - val_loss: 0.8438 - val_accuracy: 0.8916\n",
      "Epoch 35/50\n",
      "1100/1100 [==============================] - 5s 5ms/step - loss: 0.2135 - accuracy: 0.9308 - val_loss: 0.9000 - val_accuracy: 0.8918\n",
      "Epoch 36/50\n",
      "1100/1100 [==============================] - 5s 4ms/step - loss: 0.2090 - accuracy: 0.9303 - val_loss: 0.8614 - val_accuracy: 0.8908\n",
      "Epoch 37/50\n",
      "1100/1100 [==============================] - 5s 4ms/step - loss: 0.2132 - accuracy: 0.9312 - val_loss: 0.9366 - val_accuracy: 0.8910\n",
      "Epoch 38/50\n",
      "1100/1100 [==============================] - 5s 4ms/step - loss: 0.2075 - accuracy: 0.9339 - val_loss: 0.9719 - val_accuracy: 0.8942\n",
      "Epoch 39/50\n",
      "1100/1100 [==============================] - 5s 4ms/step - loss: 0.2054 - accuracy: 0.9341 - val_loss: 0.9877 - val_accuracy: 0.8840\n",
      "Epoch 40/50\n",
      "1100/1100 [==============================] - 5s 4ms/step - loss: 0.2035 - accuracy: 0.9343 - val_loss: 1.0050 - val_accuracy: 0.8930\n",
      "Epoch 41/50\n",
      "1100/1100 [==============================] - 5s 5ms/step - loss: 0.1983 - accuracy: 0.9370 - val_loss: 1.0497 - val_accuracy: 0.8858\n",
      "Epoch 42/50\n",
      "1100/1100 [==============================] - 5s 4ms/step - loss: 0.1997 - accuracy: 0.9356 - val_loss: 0.9710 - val_accuracy: 0.8918\n",
      "Epoch 43/50\n",
      "1100/1100 [==============================] - 5s 4ms/step - loss: 0.1978 - accuracy: 0.9369 - val_loss: 0.8843 - val_accuracy: 0.8952\n",
      "Epoch 44/50\n",
      "1100/1100 [==============================] - 5s 5ms/step - loss: 0.1945 - accuracy: 0.9366 - val_loss: 1.1366 - val_accuracy: 0.8768\n",
      "Epoch 45/50\n",
      "1100/1100 [==============================] - 5s 4ms/step - loss: 0.1981 - accuracy: 0.9381 - val_loss: 0.9876 - val_accuracy: 0.8942\n",
      "Epoch 46/50\n",
      "1100/1100 [==============================] - 5s 4ms/step - loss: 0.1905 - accuracy: 0.9384 - val_loss: 1.1564 - val_accuracy: 0.8886\n",
      "Epoch 47/50\n",
      "1100/1100 [==============================] - 5s 5ms/step - loss: 0.1943 - accuracy: 0.9390 - val_loss: 1.0909 - val_accuracy: 0.8888\n",
      "Epoch 48/50\n",
      "1100/1100 [==============================] - 5s 5ms/step - loss: 0.1978 - accuracy: 0.9395 - val_loss: 1.1500 - val_accuracy: 0.8936\n",
      "Epoch 49/50\n",
      "1100/1100 [==============================] - 5s 5ms/step - loss: 0.1866 - accuracy: 0.9400 - val_loss: 1.1476 - val_accuracy: 0.8904\n",
      "Epoch 50/50\n",
      "1100/1100 [==============================] - 5s 5ms/step - loss: 0.1877 - accuracy: 0.9398 - val_loss: 1.0654 - val_accuracy: 0.8914\n"
     ]
    }
   ],
   "source": [
    "history3 = model3.fit(X_train, y_train, batch_size=50, epochs=50,\n",
    "                    validation_data=(X_valid, y_valid))"
   ]
  },
  {
   "cell_type": "markdown",
   "metadata": {},
   "source": [
    "si on augmente  batch size  le nbre d étapes dans chaque epochs diminue telle que on a remarqué que pour batch siz=30 on a 1717 steps et ensuite on augmente batch size=50 on obtient 1100 steps, si on change le nbre d'epochs le nbre de steps dans chaque iteration reste le meme ( 1100 dans le batch size=50)"
   ]
  },
  {
   "cell_type": "markdown",
   "metadata": {},
   "source": [
    "### training model4 (avec des couches cachées supp)"
   ]
  },
  {
   "cell_type": "code",
   "execution_count": 41,
   "metadata": {},
   "outputs": [
    {
     "name": "stdout",
     "output_type": "stream",
     "text": [
      "Epoch 1/50\n",
      "1100/1100 [==============================] - 5s 5ms/step - loss: 0.4865 - accuracy: 0.8246 - val_loss: 0.3925 - val_accuracy: 0.8602\n",
      "Epoch 2/50\n",
      "1100/1100 [==============================] - 5s 5ms/step - loss: 0.3641 - accuracy: 0.8654 - val_loss: 0.3512 - val_accuracy: 0.8686\n",
      "Epoch 3/50\n",
      "1100/1100 [==============================] - 5s 5ms/step - loss: 0.3259 - accuracy: 0.8800 - val_loss: 0.3356 - val_accuracy: 0.8790\n",
      "Epoch 4/50\n",
      "1100/1100 [==============================] - 5s 4ms/step - loss: 0.3046 - accuracy: 0.8861 - val_loss: 0.3130 - val_accuracy: 0.8882\n",
      "Epoch 5/50\n",
      "1100/1100 [==============================] - 5s 4ms/step - loss: 0.2838 - accuracy: 0.8942 - val_loss: 0.3224 - val_accuracy: 0.8836\n",
      "Epoch 6/50\n",
      "1100/1100 [==============================] - 5s 4ms/step - loss: 0.2716 - accuracy: 0.8967 - val_loss: 0.3238 - val_accuracy: 0.8814\n",
      "Epoch 7/50\n",
      "1100/1100 [==============================] - 5s 5ms/step - loss: 0.2590 - accuracy: 0.9027 - val_loss: 0.3103 - val_accuracy: 0.8846\n",
      "Epoch 8/50\n",
      "1100/1100 [==============================] - 5s 4ms/step - loss: 0.2458 - accuracy: 0.9079 - val_loss: 0.2990 - val_accuracy: 0.8898\n",
      "Epoch 9/50\n",
      "1100/1100 [==============================] - 5s 5ms/step - loss: 0.2377 - accuracy: 0.9099 - val_loss: 0.2851 - val_accuracy: 0.8950\n",
      "Epoch 10/50\n",
      "1100/1100 [==============================] - 5s 5ms/step - loss: 0.2245 - accuracy: 0.9139 - val_loss: 0.3172 - val_accuracy: 0.8916\n",
      "Epoch 11/50\n",
      "1100/1100 [==============================] - 5s 5ms/step - loss: 0.2194 - accuracy: 0.9161 - val_loss: 0.3122 - val_accuracy: 0.8926\n",
      "Epoch 12/50\n",
      "1100/1100 [==============================] - 5s 5ms/step - loss: 0.2080 - accuracy: 0.9200 - val_loss: 0.3233 - val_accuracy: 0.8948\n",
      "Epoch 13/50\n",
      "1100/1100 [==============================] - 5s 4ms/step - loss: 0.2028 - accuracy: 0.9221 - val_loss: 0.3128 - val_accuracy: 0.8942\n",
      "Epoch 14/50\n",
      "1100/1100 [==============================] - 5s 5ms/step - loss: 0.1931 - accuracy: 0.9259 - val_loss: 0.3242 - val_accuracy: 0.8962\n",
      "Epoch 15/50\n",
      "1100/1100 [==============================] - 5s 4ms/step - loss: 0.1863 - accuracy: 0.9280 - val_loss: 0.3302 - val_accuracy: 0.8938\n",
      "Epoch 16/50\n",
      "1100/1100 [==============================] - 5s 4ms/step - loss: 0.1835 - accuracy: 0.9301 - val_loss: 0.3373 - val_accuracy: 0.9008\n",
      "Epoch 17/50\n",
      "1100/1100 [==============================] - 5s 4ms/step - loss: 0.1737 - accuracy: 0.9328 - val_loss: 0.3687 - val_accuracy: 0.8926\n",
      "Epoch 18/50\n",
      "1100/1100 [==============================] - 5s 4ms/step - loss: 0.1669 - accuracy: 0.9354 - val_loss: 0.3601 - val_accuracy: 0.9002\n",
      "Epoch 19/50\n",
      "1100/1100 [==============================] - 5s 4ms/step - loss: 0.1640 - accuracy: 0.9371 - val_loss: 0.3721 - val_accuracy: 0.8996\n",
      "Epoch 20/50\n",
      "1100/1100 [==============================] - 5s 4ms/step - loss: 0.1563 - accuracy: 0.9386 - val_loss: 0.3718 - val_accuracy: 0.8988\n",
      "Epoch 21/50\n",
      "1100/1100 [==============================] - 5s 4ms/step - loss: 0.1545 - accuracy: 0.9405 - val_loss: 0.3778 - val_accuracy: 0.8912\n",
      "Epoch 22/50\n",
      "1100/1100 [==============================] - 5s 4ms/step - loss: 0.1455 - accuracy: 0.9433 - val_loss: 0.3909 - val_accuracy: 0.8902\n",
      "Epoch 23/50\n",
      "1100/1100 [==============================] - 5s 5ms/step - loss: 0.1451 - accuracy: 0.9432 - val_loss: 0.3617 - val_accuracy: 0.8978\n",
      "Epoch 24/50\n",
      "1100/1100 [==============================] - 5s 5ms/step - loss: 0.1426 - accuracy: 0.9446 - val_loss: 0.3728 - val_accuracy: 0.8964\n",
      "Epoch 25/50\n",
      "1100/1100 [==============================] - 5s 5ms/step - loss: 0.1336 - accuracy: 0.9469 - val_loss: 0.4063 - val_accuracy: 0.8978\n",
      "Epoch 26/50\n",
      "1100/1100 [==============================] - 5s 5ms/step - loss: 0.1371 - accuracy: 0.9472 - val_loss: 0.4228 - val_accuracy: 0.8940\n",
      "Epoch 27/50\n",
      "1100/1100 [==============================] - 5s 4ms/step - loss: 0.1293 - accuracy: 0.9495 - val_loss: 0.4300 - val_accuracy: 0.8920\n",
      "Epoch 28/50\n",
      "1100/1100 [==============================] - 5s 4ms/step - loss: 0.1242 - accuracy: 0.9510 - val_loss: 0.4327 - val_accuracy: 0.9030\n",
      "Epoch 29/50\n",
      "1100/1100 [==============================] - 5s 5ms/step - loss: 0.1224 - accuracy: 0.9523 - val_loss: 0.4028 - val_accuracy: 0.9026\n",
      "Epoch 30/50\n",
      "1100/1100 [==============================] - 5s 4ms/step - loss: 0.1187 - accuracy: 0.9536 - val_loss: 0.4352 - val_accuracy: 0.9032\n",
      "Epoch 31/50\n",
      "1100/1100 [==============================] - 5s 5ms/step - loss: 0.1152 - accuracy: 0.9552 - val_loss: 0.4496 - val_accuracy: 0.9020\n",
      "Epoch 32/50\n",
      "1100/1100 [==============================] - 5s 4ms/step - loss: 0.1113 - accuracy: 0.9564 - val_loss: 0.4300 - val_accuracy: 0.8972\n",
      "Epoch 33/50\n",
      "1100/1100 [==============================] - 5s 4ms/step - loss: 0.1085 - accuracy: 0.9583 - val_loss: 0.4571 - val_accuracy: 0.8972\n",
      "Epoch 34/50\n",
      "1100/1100 [==============================] - 5s 4ms/step - loss: 0.1076 - accuracy: 0.9580 - val_loss: 0.4899 - val_accuracy: 0.8998\n",
      "Epoch 35/50\n",
      "1100/1100 [==============================] - 5s 4ms/step - loss: 0.1024 - accuracy: 0.9597 - val_loss: 0.4788 - val_accuracy: 0.9002\n",
      "Epoch 36/50\n",
      "1100/1100 [==============================] - 5s 4ms/step - loss: 0.1034 - accuracy: 0.9593 - val_loss: 0.4976 - val_accuracy: 0.8928\n",
      "Epoch 37/50\n",
      "1100/1100 [==============================] - 5s 5ms/step - loss: 0.1020 - accuracy: 0.9599 - val_loss: 0.5095 - val_accuracy: 0.9020\n",
      "Epoch 38/50\n",
      "1100/1100 [==============================] - 5s 4ms/step - loss: 0.0983 - accuracy: 0.9628 - val_loss: 0.4990 - val_accuracy: 0.8980\n",
      "Epoch 39/50\n",
      "1100/1100 [==============================] - 5s 4ms/step - loss: 0.0924 - accuracy: 0.9639 - val_loss: 0.5289 - val_accuracy: 0.8986\n",
      "Epoch 40/50\n",
      "1100/1100 [==============================] - 5s 4ms/step - loss: 0.0923 - accuracy: 0.9641 - val_loss: 0.5388 - val_accuracy: 0.8934\n",
      "Epoch 41/50\n",
      "1100/1100 [==============================] - 5s 4ms/step - loss: 0.0940 - accuracy: 0.9630 - val_loss: 0.4751 - val_accuracy: 0.9048\n",
      "Epoch 42/50\n",
      "1100/1100 [==============================] - 5s 4ms/step - loss: 0.0895 - accuracy: 0.9651 - val_loss: 0.5284 - val_accuracy: 0.8998\n",
      "Epoch 43/50\n",
      "1100/1100 [==============================] - 5s 4ms/step - loss: 0.0873 - accuracy: 0.9670 - val_loss: 0.5279 - val_accuracy: 0.9038\n",
      "Epoch 44/50\n",
      "1100/1100 [==============================] - 5s 4ms/step - loss: 0.0882 - accuracy: 0.9665 - val_loss: 0.5330 - val_accuracy: 0.8944\n",
      "Epoch 45/50\n",
      "1100/1100 [==============================] - 5s 4ms/step - loss: 0.0835 - accuracy: 0.9676 - val_loss: 0.5227 - val_accuracy: 0.8986\n",
      "Epoch 46/50\n",
      "1100/1100 [==============================] - 5s 4ms/step - loss: 0.0813 - accuracy: 0.9684 - val_loss: 0.5769 - val_accuracy: 0.9018\n",
      "Epoch 47/50\n",
      "1100/1100 [==============================] - 5s 5ms/step - loss: 0.0827 - accuracy: 0.9678 - val_loss: 0.6112 - val_accuracy: 0.8910\n",
      "Epoch 48/50\n",
      "1100/1100 [==============================] - 5s 4ms/step - loss: 0.0790 - accuracy: 0.9692 - val_loss: 0.5929 - val_accuracy: 0.8992\n",
      "Epoch 49/50\n",
      "1100/1100 [==============================] - 5s 4ms/step - loss: 0.0755 - accuracy: 0.9713 - val_loss: 0.6336 - val_accuracy: 0.8990\n",
      "Epoch 50/50\n",
      "1100/1100 [==============================] - 5s 4ms/step - loss: 0.0747 - accuracy: 0.9715 - val_loss: 0.6387 - val_accuracy: 0.8966\n"
     ]
    }
   ],
   "source": [
    "history4 = model4.fit(X_train, y_train, batch_size=50, epochs=50,\n",
    "                    validation_data=(X_valid, y_valid))"
   ]
  },
  {
   "cell_type": "code",
   "execution_count": 42,
   "metadata": {},
   "outputs": [
    {
     "data": {
      "text/plain": [
       "{'verbose': 1, 'epochs': 50, 'steps': 1100}"
      ]
     },
     "execution_count": 42,
     "metadata": {},
     "output_type": "execute_result"
    }
   ],
   "source": [
    "history1.params"
   ]
  },
  {
   "cell_type": "code",
   "execution_count": 43,
   "metadata": {},
   "outputs": [
    {
     "data": {
      "text/plain": [
       "{'verbose': 1, 'epochs': 50, 'steps': 1100}"
      ]
     },
     "execution_count": 43,
     "metadata": {},
     "output_type": "execute_result"
    }
   ],
   "source": [
    "history2.params"
   ]
  },
  {
   "cell_type": "code",
   "execution_count": 44,
   "metadata": {},
   "outputs": [
    {
     "data": {
      "text/plain": [
       "{'verbose': 1, 'epochs': 50, 'steps': 1100}"
      ]
     },
     "execution_count": 44,
     "metadata": {},
     "output_type": "execute_result"
    }
   ],
   "source": [
    "history3.params"
   ]
  },
  {
   "cell_type": "code",
   "execution_count": 45,
   "metadata": {},
   "outputs": [
    {
     "name": "stdout",
     "output_type": "stream",
     "text": [
      "[0, 1, 2, 3, 4, 5, 6, 7, 8, 9, 10, 11, 12, 13, 14, 15, 16, 17, 18, 19, 20, 21, 22, 23, 24, 25, 26, 27, 28, 29, 30, 31, 32, 33, 34, 35, 36, 37, 38, 39, 40, 41, 42, 43, 44, 45, 46, 47, 48, 49]\n"
     ]
    }
   ],
   "source": [
    "print(history1.epoch)"
   ]
  },
  {
   "cell_type": "code",
   "execution_count": 46,
   "metadata": {},
   "outputs": [
    {
     "name": "stdout",
     "output_type": "stream",
     "text": [
      "[0, 1, 2, 3, 4, 5, 6, 7, 8, 9, 10, 11, 12, 13, 14, 15, 16, 17, 18, 19, 20, 21, 22, 23, 24, 25, 26, 27, 28, 29, 30, 31, 32, 33, 34, 35, 36, 37, 38, 39, 40, 41, 42, 43, 44, 45, 46, 47, 48, 49]\n"
     ]
    }
   ],
   "source": [
    "print(history2.epoch)"
   ]
  },
  {
   "cell_type": "code",
   "execution_count": 47,
   "metadata": {},
   "outputs": [
    {
     "name": "stdout",
     "output_type": "stream",
     "text": [
      "[0, 1, 2, 3, 4, 5, 6, 7, 8, 9, 10, 11, 12, 13, 14, 15, 16, 17, 18, 19, 20, 21, 22, 23, 24, 25, 26, 27, 28, 29, 30, 31, 32, 33, 34, 35, 36, 37, 38, 39, 40, 41, 42, 43, 44, 45, 46, 47, 48, 49]\n"
     ]
    }
   ],
   "source": [
    "print(history3.epoch)"
   ]
  },
  {
   "cell_type": "code",
   "execution_count": 48,
   "metadata": {},
   "outputs": [
    {
     "data": {
      "text/plain": [
       "dict_keys(['loss', 'accuracy', 'val_loss', 'val_accuracy'])"
      ]
     },
     "execution_count": 48,
     "metadata": {},
     "output_type": "execute_result"
    }
   ],
   "source": [
    "history1.history.keys()"
   ]
  },
  {
   "cell_type": "code",
   "execution_count": 49,
   "metadata": {},
   "outputs": [
    {
     "data": {
      "text/plain": [
       "dict_keys(['loss', 'accuracy', 'val_loss', 'val_accuracy'])"
      ]
     },
     "execution_count": 49,
     "metadata": {},
     "output_type": "execute_result"
    }
   ],
   "source": [
    "history2.history.keys()"
   ]
  },
  {
   "cell_type": "code",
   "execution_count": 50,
   "metadata": {},
   "outputs": [
    {
     "data": {
      "text/plain": [
       "dict_keys(['loss', 'accuracy', 'val_loss', 'val_accuracy'])"
      ]
     },
     "execution_count": 50,
     "metadata": {},
     "output_type": "execute_result"
    }
   ],
   "source": [
    "history3.history.keys()"
   ]
  },
  {
   "cell_type": "code",
   "execution_count": 51,
   "metadata": {},
   "outputs": [
    {
     "data": {
      "text/plain": [
       "dict_keys(['loss', 'accuracy', 'val_loss', 'val_accuracy'])"
      ]
     },
     "execution_count": 51,
     "metadata": {},
     "output_type": "execute_result"
    }
   ],
   "source": [
    "history4.history.keys()"
   ]
  },
  {
   "cell_type": "markdown",
   "metadata": {},
   "source": [
    "## Plot learning Curves"
   ]
  },
  {
   "cell_type": "markdown",
   "metadata": {},
   "source": [
    "### optimizer ADAM"
   ]
  },
  {
   "cell_type": "code",
   "execution_count": 52,
   "metadata": {
    "scrolled": true
   },
   "outputs": [
    {
     "data": {
      "image/png": "[encoded data removed]",
      "text/plain": [
       "<Figure size 576x360 with 1 Axes>"
      ]
     },
     "metadata": {
      "needs_background": "light"
     },
     "output_type": "display_data"
    }
   ],
   "source": [
    "import pandas as pd\n",
    "\n",
    "pd.DataFrame(history1.history).plot(figsize=(8, 5))\n",
    "plt.grid(True)\n",
    "plt.gca().set_ylim(0, 1)\n",
    "plt.show()"
   ]
  },
  {
   "cell_type": "markdown",
   "metadata": {},
   "source": [
    "### optimizer SGD"
   ]
  },
  {
   "cell_type": "code",
   "execution_count": 53,
   "metadata": {},
   "outputs": [
    {
     "data": {
      "image/png": "[encoded data removed]",
      "text/plain": [
       "<Figure size 576x360 with 1 Axes>"
      ]
     },
     "metadata": {
      "needs_background": "light"
     },
     "output_type": "display_data"
    }
   ],
   "source": [
    "pd.DataFrame(history2.history).plot(figsize=(8, 5))\n",
    "plt.grid(True)\n",
    "plt.gca().set_ylim(0, 1)\n",
    "plt.show()"
   ]
  },
  {
   "cell_type": "markdown",
   "metadata": {},
   "source": [
    "###  optimizer RMSpop"
   ]
  },
  {
   "cell_type": "code",
   "execution_count": 54,
   "metadata": {},
   "outputs": [
    {
     "data": {
      "image/png": "[encoded data removed]",
      "text/plain": [
       "<Figure size 576x360 with 1 Axes>"
      ]
     },
     "metadata": {
      "needs_background": "light"
     },
     "output_type": "display_data"
    }
   ],
   "source": [
    "pd.DataFrame(history3.history).plot(figsize=(8, 5))\n",
    "plt.grid(True)\n",
    "plt.gca().set_ylim(0, 1)\n",
    "plt.show()"
   ]
  },
  {
   "cell_type": "markdown",
   "metadata": {},
   "source": [
    "## Model 4 : plus de couches"
   ]
  },
  {
   "cell_type": "code",
   "execution_count": 55,
   "metadata": {},
   "outputs": [
    {
     "data": {
      "image/png": "[encoded data removed]",
      "text/plain": [
       "<Figure size 576x360 with 1 Axes>"
      ]
     },
     "metadata": {
      "needs_background": "light"
     },
     "output_type": "display_data"
    }
   ],
   "source": [
    "pd.DataFrame(history4.history).plot(figsize=(8, 5))\n",
    "plt.grid(True)\n",
    "plt.gca().set_ylim(0, 1)\n",
    "plt.show()"
   ]
  },
  {
   "cell_type": "markdown",
   "metadata": {},
   "source": [
    "### l'application sur les données de test"
   ]
  },
  {
   "cell_type": "markdown",
   "metadata": {},
   "source": [
    "#### model1"
   ]
  },
  {
   "cell_type": "code",
   "execution_count": 56,
   "metadata": {},
   "outputs": [
    {
     "name": "stdout",
     "output_type": "stream",
     "text": [
      "313/313 [==============================] - 1s 3ms/step - loss: 0.6319 - accuracy: 0.8881\n"
     ]
    }
   ],
   "source": [
    "predict_test1=model1.evaluate(X_test, y_test)"
   ]
  },
  {
   "cell_type": "markdown",
   "metadata": {},
   "source": [
    "#### model2"
   ]
  },
  {
   "cell_type": "code",
   "execution_count": 57,
   "metadata": {},
   "outputs": [
    {
     "name": "stdout",
     "output_type": "stream",
     "text": [
      "313/313 [==============================] - 1s 3ms/step - loss: 0.3287 - accuracy: 0.8855\n"
     ]
    }
   ],
   "source": [
    "predict_test2=model2.evaluate(X_test, y_test)"
   ]
  },
  {
   "cell_type": "markdown",
   "metadata": {},
   "source": [
    "#### model3"
   ]
  },
  {
   "cell_type": "code",
   "execution_count": 58,
   "metadata": {},
   "outputs": [
    {
     "name": "stdout",
     "output_type": "stream",
     "text": [
      "313/313 [==============================] - 1s 3ms/step - loss: 1.0797 - accuracy: 0.8844\n"
     ]
    }
   ],
   "source": [
    "predict_test3=model3.evaluate(X_test, y_test)"
   ]
  },
  {
   "cell_type": "markdown",
   "metadata": {},
   "source": [
    "### model 4"
   ]
  },
  {
   "cell_type": "code",
   "execution_count": 59,
   "metadata": {},
   "outputs": [
    {
     "name": "stdout",
     "output_type": "stream",
     "text": [
      "313/313 [==============================] - 1s 3ms/step - loss: 0.6744 - accuracy: 0.8908\n"
     ]
    }
   ],
   "source": [
    "predict_test4=model4.evaluate(X_test, y_test)"
   ]
  },
  {
   "cell_type": "code",
   "execution_count": 60,
   "metadata": {},
   "outputs": [],
   "source": [
    "X_new = X_test[:3]\n"
   ]
  },
  {
   "cell_type": "code",
   "execution_count": 61,
   "metadata": {},
   "outputs": [
    {
     "data": {
      "text/plain": [
       "array([[0., 0., 0., 0., 0., 0., 0., 0., 0., 1.],\n",
       "       [0., 0., 1., 0., 0., 0., 0., 0., 0., 0.],\n",
       "       [0., 1., 0., 0., 0., 0., 0., 0., 0., 0.]], dtype=float32)"
      ]
     },
     "execution_count": 61,
     "metadata": {},
     "output_type": "execute_result"
    }
   ],
   "source": [
    "y_proba = model1.predict(X_new)\n",
    "y_proba.round(2)"
   ]
  },
  {
   "cell_type": "code",
   "execution_count": 62,
   "metadata": {},
   "outputs": [
    {
     "data": {
      "text/plain": [
       "array([[0.  , 0.  , 0.  , 0.  , 0.  , 0.  , 0.  , 0.  , 0.  , 0.99],\n",
       "       [0.  , 0.  , 1.  , 0.  , 0.  , 0.  , 0.  , 0.  , 0.  , 0.  ],\n",
       "       [0.  , 1.  , 0.  , 0.  , 0.  , 0.  , 0.  , 0.  , 0.  , 0.  ]],\n",
       "      dtype=float32)"
      ]
     },
     "execution_count": 62,
     "metadata": {},
     "output_type": "execute_result"
    }
   ],
   "source": [
    "y_proba = model2.predict(X_new)\n",
    "y_proba.round(2)"
   ]
  },
  {
   "cell_type": "code",
   "execution_count": 63,
   "metadata": {},
   "outputs": [
    {
     "data": {
      "text/plain": [
       "array([[0., 0., 0., 0., 0., 0., 0., 0., 0., 1.],\n",
       "       [0., 0., 1., 0., 0., 0., 0., 0., 0., 0.],\n",
       "       [0., 1., 0., 0., 0., 0., 0., 0., 0., 0.]], dtype=float32)"
      ]
     },
     "execution_count": 63,
     "metadata": {},
     "output_type": "execute_result"
    }
   ],
   "source": [
    "y_proba = model3.predict(X_new)\n",
    "y_proba.round(2)"
   ]
  },
  {
   "cell_type": "code",
   "execution_count": 64,
   "metadata": {},
   "outputs": [
    {
     "data": {
      "text/plain": [
       "array([[0., 0., 0., 0., 0., 0., 0., 0., 0., 1.],\n",
       "       [0., 0., 1., 0., 0., 0., 0., 0., 0., 0.],\n",
       "       [0., 1., 0., 0., 0., 0., 0., 0., 0., 0.]], dtype=float32)"
      ]
     },
     "execution_count": 64,
     "metadata": {},
     "output_type": "execute_result"
    }
   ],
   "source": [
    "y_proba = model4.predict(X_new)\n",
    "y_proba.round(2)"
   ]
  },
  {
   "cell_type": "code",
   "execution_count": 65,
   "metadata": {},
   "outputs": [
    {
     "name": "stdout",
     "output_type": "stream",
     "text": [
      "WARNING:tensorflow:From <ipython-input-65-97d66773ad4e>:1: Sequential.predict_classes (from tensorflow.python.keras.engine.sequential) is deprecated and will be removed after 2021-01-01.\n",
      "Instructions for updating:\n",
      "Please use instead:* `np.argmax(model.predict(x), axis=-1)`,   if your model does multi-class classification   (e.g. if it uses a `softmax` last-layer activation).* `(model.predict(x) > 0.5).astype(\"int32\")`,   if your model does binary classification   (e.g. if it uses a `sigmoid` last-layer activation).\n"
     ]
    },
    {
     "data": {
      "text/plain": [
       "array([9, 2, 1], dtype=int64)"
      ]
     },
     "execution_count": 65,
     "metadata": {},
     "output_type": "execute_result"
    }
   ],
   "source": [
    "y_pred1 = model1.predict_classes(X_new)\n",
    "y_pred1"
   ]
  },
  {
   "cell_type": "code",
   "execution_count": 66,
   "metadata": {},
   "outputs": [
    {
     "data": {
      "text/plain": [
       "array([9, 2, 1], dtype=int64)"
      ]
     },
     "execution_count": 66,
     "metadata": {},
     "output_type": "execute_result"
    }
   ],
   "source": [
    "y_pred2 = model2.predict_classes(X_new)\n",
    "y_pred2"
   ]
  },
  {
   "cell_type": "code",
   "execution_count": 67,
   "metadata": {},
   "outputs": [
    {
     "data": {
      "text/plain": [
       "array([9, 2, 1], dtype=int64)"
      ]
     },
     "execution_count": 67,
     "metadata": {},
     "output_type": "execute_result"
    }
   ],
   "source": [
    "y_pred3 = model3.predict_classes(X_new)\n",
    "y_pred3"
   ]
  },
  {
   "cell_type": "code",
   "execution_count": 68,
   "metadata": {},
   "outputs": [
    {
     "data": {
      "text/plain": [
       "array([9, 2, 1], dtype=int64)"
      ]
     },
     "execution_count": 68,
     "metadata": {},
     "output_type": "execute_result"
    }
   ],
   "source": [
    "y_pred4 = model4.predict_classes(X_new)\n",
    "y_pred4"
   ]
  },
  {
   "cell_type": "code",
   "execution_count": 69,
   "metadata": {},
   "outputs": [
    {
     "data": {
      "text/plain": [
       "array(['Ankle boot', 'Pullover', 'Trouser'], dtype='<U11')"
      ]
     },
     "execution_count": 69,
     "metadata": {},
     "output_type": "execute_result"
    }
   ],
   "source": [
    "np.array(class_names)[y_pred1]"
   ]
  },
  {
   "cell_type": "code",
   "execution_count": 70,
   "metadata": {},
   "outputs": [
    {
     "data": {
      "text/plain": [
       "array(['Ankle boot', 'Pullover', 'Trouser'], dtype='<U11')"
      ]
     },
     "execution_count": 70,
     "metadata": {},
     "output_type": "execute_result"
    }
   ],
   "source": [
    "np.array(class_names)[y_pred2]"
   ]
  },
  {
   "cell_type": "code",
   "execution_count": 71,
   "metadata": {},
   "outputs": [
    {
     "data": {
      "text/plain": [
       "array(['Ankle boot', 'Pullover', 'Trouser'], dtype='<U11')"
      ]
     },
     "execution_count": 71,
     "metadata": {},
     "output_type": "execute_result"
    }
   ],
   "source": [
    "np.array(class_names)[y_pred3]"
   ]
  },
  {
   "cell_type": "code",
   "execution_count": 72,
   "metadata": {},
   "outputs": [
    {
     "data": {
      "text/plain": [
       "array(['Ankle boot', 'Pullover', 'Trouser'], dtype='<U11')"
      ]
     },
     "execution_count": 72,
     "metadata": {},
     "output_type": "execute_result"
    }
   ],
   "source": [
    "np.array(class_names)[y_pred4]"
   ]
  },
  {
   "cell_type": "code",
   "execution_count": 73,
   "metadata": {},
   "outputs": [
    {
     "data": {
      "text/plain": [
       "array([9, 2, 1], dtype=uint8)"
      ]
     },
     "execution_count": 73,
     "metadata": {},
     "output_type": "execute_result"
    }
   ],
   "source": [
    "\n",
    "y_new = y_test[:3]\n",
    "y_new"
   ]
  },
  {
   "cell_type": "code",
   "execution_count": 74,
   "metadata": {},
   "outputs": [
    {
     "data": {
      "image/png": "[encoded data removed]",
      "text/plain": [
       "<Figure size 518.4x172.8 with 3 Axes>"
      ]
     },
     "metadata": {
      "needs_background": "light"
     },
     "output_type": "display_data"
    }
   ],
   "source": [
    "plt.figure(figsize=(7.2, 2.4))\n",
    "for index, image in enumerate(X_new):\n",
    "    plt.subplot(1, 3, index + 1)\n",
    "    plt.imshow(image, cmap=\"binary\", interpolation=\"nearest\")\n",
    "    plt.axis('off')\n",
    "    plt.title(class_names[y_test[index]], fontsize=12)\n",
    "plt.subplots_adjust(wspace=0.2, hspace=0.5)\n",
    "plt.show()"
   ]
  },
  {
   "cell_type": "markdown",
   "metadata": {},
   "source": [
    "# Comparaison entre les 3 optimizers"
   ]
  },
  {
   "cell_type": "code",
   "execution_count": 75,
   "metadata": {},
   "outputs": [],
   "source": [
    "comp=[]\n",
    "comp.append(predict_test1[1])\n",
    "comp.append(predict_test2[1])\n",
    "comp.append(predict_test3[1])\n",
    "comp.append(predict_test4[1])"
   ]
  },
  {
   "cell_type": "code",
   "execution_count": 76,
   "metadata": {},
   "outputs": [
    {
     "data": {
      "text/plain": [
       "[0.8881000280380249,\n",
       " 0.8855000138282776,\n",
       " 0.8844000101089478,\n",
       " 0.8907999992370605]"
      ]
     },
     "execution_count": 76,
     "metadata": {},
     "output_type": "execute_result"
    }
   ],
   "source": [
    "comp"
   ]
  },
  {
   "cell_type": "markdown",
   "metadata": {},
   "source": [
    "* on remarque que le premier modele , celui d'optimizer ADAM  est le plus performant car  il a le plus grand accuracy pour btch size=32 et epchs=30.\n",
    "* et pouur un batch qui est un peu plus elevé par exemple 50  l'accuracy se diminue un peu.\n",
    "* le changement de  nbre epochs ne va pas affecter rien ni le nbre de steps ni l'accuracy.\n",
    "* si on ajoute  autres couches cachées  on obtient une accuracy un peu elevée que le modele précédent (avant l'ajout de couches).\n",
    "* la fonction de loss a un impact sur les resultats d'accuracy sur les differents optimizers."
   ]
  },
  {
   "cell_type": "code",
   "execution_count": null,
   "metadata": {},
   "outputs": [],
   "source": []
  }
 ],
 "metadata": {
  "kernelspec": {
   "display_name": "Python 3",
   "language": "python",
   "name": "python3"
  },
  "language_info": {
   "codemirror_mode": {
    "name": "ipython",
    "version": 3
   },
   "file_extension": ".py",
   "mimetype": "text/x-python",
   "name": "python",
   "nbconvert_exporter": "python",
   "pygments_lexer": "ipython3",
   "version": "3.7.6"
  }
 },
 "nbformat": 4,
 "nbformat_minor": 4
}
